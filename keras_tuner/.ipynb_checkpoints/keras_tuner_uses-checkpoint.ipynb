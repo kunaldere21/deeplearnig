{
 "cells": [
  {
   "cell_type": "code",
   "execution_count": 3,
   "id": "445c0c0f",
   "metadata": {},
   "outputs": [],
   "source": [
    "import pandas as pd\n",
    "import numpy as np"
   ]
  },
  {
   "cell_type": "code",
   "execution_count": 6,
   "id": "45d9d41d",
   "metadata": {},
   "outputs": [
    {
     "name": "stdout",
     "output_type": "stream",
     "text": [
      "   Pregnancies  Glucose  BloodPressure  SkinThickness  Insulin   BMI  \\\n",
      "0            6      148             72             35        0  33.6   \n",
      "1            1       85             66             29        0  26.6   \n",
      "2            8      183             64              0        0  23.3   \n",
      "3            1       89             66             23       94  28.1   \n",
      "4            0      137             40             35      168  43.1   \n",
      "\n",
      "   DiabetesPedigreeFunction  Age  Outcome  \n",
      "0                     0.627   50        1  \n",
      "1                     0.351   31        0  \n",
      "2                     0.672   32        1  \n",
      "3                     0.167   21        0  \n",
      "4                     2.288   33        1  \n"
     ]
    }
   ],
   "source": [
    "df = pd.read_csv(\"/home/dell/Desktop/My_learning/DL_tutorial/keras_tuner/diabetes.csv\")\n",
    "df.shape\n",
    "print(df.head())"
   ]
  },
  {
   "cell_type": "code",
   "execution_count": 10,
   "id": "411c97ea",
   "metadata": {},
   "outputs": [
    {
     "data": {
      "text/plain": [
       "Pregnancies                 0.221898\n",
       "Glucose                     0.466581\n",
       "BloodPressure               0.065068\n",
       "SkinThickness               0.074752\n",
       "Insulin                     0.130548\n",
       "BMI                         0.292695\n",
       "DiabetesPedigreeFunction    0.173844\n",
       "Age                         0.238356\n",
       "Outcome                     1.000000\n",
       "Name: Outcome, dtype: float64"
      ]
     },
     "execution_count": 10,
     "metadata": {},
     "output_type": "execute_result"
    }
   ],
   "source": [
    "df.corr()['Outcome']"
   ]
  },
  {
   "cell_type": "code",
   "execution_count": 17,
   "id": "68900fda",
   "metadata": {},
   "outputs": [],
   "source": [
    "X = df.iloc[:,:-1].values\n",
    "y = df.iloc[:,-1].values"
   ]
  },
  {
   "cell_type": "code",
   "execution_count": 18,
   "id": "772f219f",
   "metadata": {},
   "outputs": [],
   "source": [
    "from sklearn.preprocessing import StandardScaler\n",
    "scaler = StandardScaler()"
   ]
  },
  {
   "cell_type": "code",
   "execution_count": 19,
   "id": "c020a1fd",
   "metadata": {},
   "outputs": [],
   "source": [
    "X = scaler.fit_transform(X)"
   ]
  },
  {
   "cell_type": "code",
   "execution_count": 20,
   "id": "74b082fe",
   "metadata": {},
   "outputs": [],
   "source": [
    "from sklearn.model_selection import train_test_split\n",
    "X_train,X_test, y_train,y_test = train_test_split(X,y,test_size=0.2,random_state=1)"
   ]
  },
  {
   "cell_type": "code",
   "execution_count": 21,
   "id": "478445c4",
   "metadata": {},
   "outputs": [],
   "source": [
    "import tensorflow\n",
    "from tensorflow import keras\n",
    "from keras.layers import Dense\n",
    "from keras.models import Sequential"
   ]
  },
  {
   "cell_type": "code",
   "execution_count": 27,
   "id": "3f63b4a4",
   "metadata": {},
   "outputs": [],
   "source": [
    "model = Sequential()\n",
    "model.add(Dense(32,activation='relu', input_dim=8))\n",
    "model.add(Dense(1,activation='sigmoid'))"
   ]
  },
  {
   "cell_type": "code",
   "execution_count": 28,
   "id": "8f6b36bc",
   "metadata": {},
   "outputs": [],
   "source": [
    "model.compile(loss = \"binary_crossentropy\",optimizer = \"Adam\",metrics=['accuracy'])"
   ]
  },
  {
   "cell_type": "code",
   "execution_count": 39,
   "id": "036b5c6e",
   "metadata": {},
   "outputs": [
    {
     "name": "stdout",
     "output_type": "stream",
     "text": [
      "Epoch 1/100\n",
      "16/16 [==============================] - 0s 6ms/step - loss: 0.4183 - accuracy: 0.8024 - val_loss: 0.4543 - val_accuracy: 0.7398\n",
      "Epoch 2/100\n",
      "16/16 [==============================] - 0s 3ms/step - loss: 0.4182 - accuracy: 0.8024 - val_loss: 0.4531 - val_accuracy: 0.7398\n",
      "Epoch 3/100\n",
      "16/16 [==============================] - 0s 3ms/step - loss: 0.4174 - accuracy: 0.8024 - val_loss: 0.4528 - val_accuracy: 0.7398\n",
      "Epoch 4/100\n",
      "16/16 [==============================] - 0s 4ms/step - loss: 0.4173 - accuracy: 0.8004 - val_loss: 0.4539 - val_accuracy: 0.7398\n",
      "Epoch 5/100\n",
      "16/16 [==============================] - 0s 3ms/step - loss: 0.4167 - accuracy: 0.7984 - val_loss: 0.4543 - val_accuracy: 0.7480\n",
      "Epoch 6/100\n",
      "16/16 [==============================] - 0s 3ms/step - loss: 0.4168 - accuracy: 0.8004 - val_loss: 0.4547 - val_accuracy: 0.7398\n",
      "Epoch 7/100\n",
      "16/16 [==============================] - 0s 3ms/step - loss: 0.4162 - accuracy: 0.8045 - val_loss: 0.4551 - val_accuracy: 0.7480\n",
      "Epoch 8/100\n",
      "16/16 [==============================] - 0s 3ms/step - loss: 0.4158 - accuracy: 0.8045 - val_loss: 0.4551 - val_accuracy: 0.7398\n",
      "Epoch 9/100\n",
      "16/16 [==============================] - 0s 3ms/step - loss: 0.4155 - accuracy: 0.7984 - val_loss: 0.4581 - val_accuracy: 0.7480\n",
      "Epoch 10/100\n",
      "16/16 [==============================] - 0s 3ms/step - loss: 0.4152 - accuracy: 0.7984 - val_loss: 0.4572 - val_accuracy: 0.7561\n",
      "Epoch 11/100\n",
      "16/16 [==============================] - 0s 3ms/step - loss: 0.4150 - accuracy: 0.8004 - val_loss: 0.4554 - val_accuracy: 0.7398\n",
      "Epoch 12/100\n",
      "16/16 [==============================] - 0s 3ms/step - loss: 0.4141 - accuracy: 0.8024 - val_loss: 0.4555 - val_accuracy: 0.7398\n",
      "Epoch 13/100\n",
      "16/16 [==============================] - 0s 3ms/step - loss: 0.4143 - accuracy: 0.8004 - val_loss: 0.4558 - val_accuracy: 0.7398\n",
      "Epoch 14/100\n",
      "16/16 [==============================] - 0s 3ms/step - loss: 0.4137 - accuracy: 0.7984 - val_loss: 0.4545 - val_accuracy: 0.7561\n",
      "Epoch 15/100\n",
      "16/16 [==============================] - 0s 3ms/step - loss: 0.4133 - accuracy: 0.7984 - val_loss: 0.4541 - val_accuracy: 0.7480\n",
      "Epoch 16/100\n",
      "16/16 [==============================] - 0s 3ms/step - loss: 0.4126 - accuracy: 0.8004 - val_loss: 0.4540 - val_accuracy: 0.7480\n",
      "Epoch 17/100\n",
      "16/16 [==============================] - 0s 3ms/step - loss: 0.4126 - accuracy: 0.8024 - val_loss: 0.4535 - val_accuracy: 0.7480\n",
      "Epoch 18/100\n",
      "16/16 [==============================] - 0s 3ms/step - loss: 0.4120 - accuracy: 0.8004 - val_loss: 0.4531 - val_accuracy: 0.7398\n",
      "Epoch 19/100\n",
      "16/16 [==============================] - 0s 3ms/step - loss: 0.4120 - accuracy: 0.8004 - val_loss: 0.4535 - val_accuracy: 0.7561\n",
      "Epoch 20/100\n",
      "16/16 [==============================] - 0s 3ms/step - loss: 0.4117 - accuracy: 0.8004 - val_loss: 0.4541 - val_accuracy: 0.7480\n",
      "Epoch 21/100\n",
      "16/16 [==============================] - 0s 3ms/step - loss: 0.4113 - accuracy: 0.8004 - val_loss: 0.4538 - val_accuracy: 0.7480\n",
      "Epoch 22/100\n",
      "16/16 [==============================] - 0s 3ms/step - loss: 0.4110 - accuracy: 0.7984 - val_loss: 0.4549 - val_accuracy: 0.7480\n",
      "Epoch 23/100\n",
      "16/16 [==============================] - 0s 3ms/step - loss: 0.4104 - accuracy: 0.8004 - val_loss: 0.4547 - val_accuracy: 0.7398\n",
      "Epoch 24/100\n",
      "16/16 [==============================] - 0s 3ms/step - loss: 0.4100 - accuracy: 0.8004 - val_loss: 0.4551 - val_accuracy: 0.7398\n",
      "Epoch 25/100\n",
      "16/16 [==============================] - 0s 3ms/step - loss: 0.4097 - accuracy: 0.7984 - val_loss: 0.4550 - val_accuracy: 0.7480\n",
      "Epoch 26/100\n",
      "16/16 [==============================] - 0s 3ms/step - loss: 0.4096 - accuracy: 0.7984 - val_loss: 0.4549 - val_accuracy: 0.7480\n",
      "Epoch 27/100\n",
      "16/16 [==============================] - 0s 3ms/step - loss: 0.4091 - accuracy: 0.8024 - val_loss: 0.4554 - val_accuracy: 0.7398\n",
      "Epoch 28/100\n",
      "16/16 [==============================] - 0s 4ms/step - loss: 0.4089 - accuracy: 0.8004 - val_loss: 0.4559 - val_accuracy: 0.7398\n",
      "Epoch 29/100\n",
      "16/16 [==============================] - 0s 3ms/step - loss: 0.4090 - accuracy: 0.8045 - val_loss: 0.4559 - val_accuracy: 0.7480\n",
      "Epoch 30/100\n",
      "16/16 [==============================] - 0s 3ms/step - loss: 0.4082 - accuracy: 0.8004 - val_loss: 0.4554 - val_accuracy: 0.7561\n",
      "Epoch 31/100\n",
      "16/16 [==============================] - 0s 3ms/step - loss: 0.4076 - accuracy: 0.8024 - val_loss: 0.4559 - val_accuracy: 0.7480\n",
      "Epoch 32/100\n",
      "16/16 [==============================] - 0s 3ms/step - loss: 0.4074 - accuracy: 0.8004 - val_loss: 0.4563 - val_accuracy: 0.7480\n",
      "Epoch 33/100\n",
      "16/16 [==============================] - 0s 3ms/step - loss: 0.4074 - accuracy: 0.8024 - val_loss: 0.4556 - val_accuracy: 0.7480\n",
      "Epoch 34/100\n",
      "16/16 [==============================] - 0s 3ms/step - loss: 0.4069 - accuracy: 0.8004 - val_loss: 0.4560 - val_accuracy: 0.7480\n",
      "Epoch 35/100\n",
      "16/16 [==============================] - 0s 3ms/step - loss: 0.4067 - accuracy: 0.7984 - val_loss: 0.4567 - val_accuracy: 0.7561\n",
      "Epoch 36/100\n",
      "16/16 [==============================] - 0s 3ms/step - loss: 0.4063 - accuracy: 0.7984 - val_loss: 0.4567 - val_accuracy: 0.7480\n",
      "Epoch 37/100\n",
      "16/16 [==============================] - 0s 3ms/step - loss: 0.4060 - accuracy: 0.8004 - val_loss: 0.4561 - val_accuracy: 0.7561\n",
      "Epoch 38/100\n",
      "16/16 [==============================] - 0s 3ms/step - loss: 0.4054 - accuracy: 0.7984 - val_loss: 0.4564 - val_accuracy: 0.7561\n",
      "Epoch 39/100\n",
      "16/16 [==============================] - 0s 3ms/step - loss: 0.4057 - accuracy: 0.7963 - val_loss: 0.4561 - val_accuracy: 0.7480\n",
      "Epoch 40/100\n",
      "16/16 [==============================] - 0s 3ms/step - loss: 0.4054 - accuracy: 0.8004 - val_loss: 0.4570 - val_accuracy: 0.7561\n",
      "Epoch 41/100\n",
      "16/16 [==============================] - 0s 3ms/step - loss: 0.4048 - accuracy: 0.7963 - val_loss: 0.4574 - val_accuracy: 0.7480\n",
      "Epoch 42/100\n",
      "16/16 [==============================] - 0s 3ms/step - loss: 0.4045 - accuracy: 0.7963 - val_loss: 0.4573 - val_accuracy: 0.7480\n",
      "Epoch 43/100\n",
      "16/16 [==============================] - 0s 3ms/step - loss: 0.4043 - accuracy: 0.8024 - val_loss: 0.4572 - val_accuracy: 0.7480\n",
      "Epoch 44/100\n",
      "16/16 [==============================] - 0s 3ms/step - loss: 0.4042 - accuracy: 0.8024 - val_loss: 0.4577 - val_accuracy: 0.7480\n",
      "Epoch 45/100\n",
      "16/16 [==============================] - 0s 3ms/step - loss: 0.4040 - accuracy: 0.7984 - val_loss: 0.4567 - val_accuracy: 0.7561\n",
      "Epoch 46/100\n",
      "16/16 [==============================] - 0s 3ms/step - loss: 0.4037 - accuracy: 0.8004 - val_loss: 0.4573 - val_accuracy: 0.7561\n",
      "Epoch 47/100\n",
      "16/16 [==============================] - 0s 3ms/step - loss: 0.4031 - accuracy: 0.8065 - val_loss: 0.4568 - val_accuracy: 0.7480\n",
      "Epoch 48/100\n",
      "16/16 [==============================] - 0s 3ms/step - loss: 0.4027 - accuracy: 0.8024 - val_loss: 0.4573 - val_accuracy: 0.7480\n",
      "Epoch 49/100\n",
      "16/16 [==============================] - 0s 3ms/step - loss: 0.4027 - accuracy: 0.8024 - val_loss: 0.4552 - val_accuracy: 0.7642\n",
      "Epoch 50/100\n",
      "16/16 [==============================] - 0s 3ms/step - loss: 0.4027 - accuracy: 0.8045 - val_loss: 0.4553 - val_accuracy: 0.7561\n",
      "Epoch 51/100\n",
      "16/16 [==============================] - 0s 3ms/step - loss: 0.4016 - accuracy: 0.8004 - val_loss: 0.4562 - val_accuracy: 0.7561\n",
      "Epoch 52/100\n",
      "16/16 [==============================] - 0s 3ms/step - loss: 0.4016 - accuracy: 0.7963 - val_loss: 0.4578 - val_accuracy: 0.7561\n",
      "Epoch 53/100\n",
      "16/16 [==============================] - 0s 3ms/step - loss: 0.4015 - accuracy: 0.8024 - val_loss: 0.4584 - val_accuracy: 0.7561\n",
      "Epoch 54/100\n",
      "16/16 [==============================] - 0s 3ms/step - loss: 0.4014 - accuracy: 0.8024 - val_loss: 0.4571 - val_accuracy: 0.7642\n",
      "Epoch 55/100\n",
      "16/16 [==============================] - 0s 3ms/step - loss: 0.4011 - accuracy: 0.8004 - val_loss: 0.4575 - val_accuracy: 0.7642\n",
      "Epoch 56/100\n",
      "16/16 [==============================] - 0s 3ms/step - loss: 0.4003 - accuracy: 0.8024 - val_loss: 0.4572 - val_accuracy: 0.7642\n",
      "Epoch 57/100\n",
      "16/16 [==============================] - 0s 5ms/step - loss: 0.4016 - accuracy: 0.8024 - val_loss: 0.4584 - val_accuracy: 0.7724\n",
      "Epoch 58/100\n",
      "16/16 [==============================] - 0s 3ms/step - loss: 0.4005 - accuracy: 0.8106 - val_loss: 0.4580 - val_accuracy: 0.7642\n"
     ]
    },
    {
     "name": "stdout",
     "output_type": "stream",
     "text": [
      "Epoch 59/100\n",
      "16/16 [==============================] - 0s 3ms/step - loss: 0.3998 - accuracy: 0.8004 - val_loss: 0.4578 - val_accuracy: 0.7561\n",
      "Epoch 60/100\n",
      "16/16 [==============================] - 0s 3ms/step - loss: 0.3996 - accuracy: 0.8045 - val_loss: 0.4571 - val_accuracy: 0.7642\n",
      "Epoch 61/100\n",
      "16/16 [==============================] - 0s 3ms/step - loss: 0.3992 - accuracy: 0.8045 - val_loss: 0.4574 - val_accuracy: 0.7724\n",
      "Epoch 62/100\n",
      "16/16 [==============================] - 0s 3ms/step - loss: 0.3988 - accuracy: 0.8086 - val_loss: 0.4598 - val_accuracy: 0.7642\n",
      "Epoch 63/100\n",
      "16/16 [==============================] - 0s 3ms/step - loss: 0.3993 - accuracy: 0.8065 - val_loss: 0.4591 - val_accuracy: 0.7724\n",
      "Epoch 64/100\n",
      "16/16 [==============================] - 0s 3ms/step - loss: 0.3998 - accuracy: 0.8024 - val_loss: 0.4617 - val_accuracy: 0.7642\n",
      "Epoch 65/100\n",
      "16/16 [==============================] - 0s 3ms/step - loss: 0.3984 - accuracy: 0.8004 - val_loss: 0.4595 - val_accuracy: 0.7642\n",
      "Epoch 66/100\n",
      "16/16 [==============================] - 0s 3ms/step - loss: 0.3979 - accuracy: 0.8065 - val_loss: 0.4600 - val_accuracy: 0.7642\n",
      "Epoch 67/100\n",
      "16/16 [==============================] - 0s 3ms/step - loss: 0.3978 - accuracy: 0.8086 - val_loss: 0.4589 - val_accuracy: 0.7561\n",
      "Epoch 68/100\n",
      "16/16 [==============================] - 0s 3ms/step - loss: 0.3979 - accuracy: 0.8106 - val_loss: 0.4581 - val_accuracy: 0.7642\n",
      "Epoch 69/100\n",
      "16/16 [==============================] - 0s 6ms/step - loss: 0.3970 - accuracy: 0.8106 - val_loss: 0.4575 - val_accuracy: 0.7561\n",
      "Epoch 70/100\n",
      "16/16 [==============================] - 0s 3ms/step - loss: 0.3966 - accuracy: 0.8045 - val_loss: 0.4576 - val_accuracy: 0.7642\n",
      "Epoch 71/100\n",
      "16/16 [==============================] - 0s 3ms/step - loss: 0.3976 - accuracy: 0.8024 - val_loss: 0.4598 - val_accuracy: 0.7642\n",
      "Epoch 72/100\n",
      "16/16 [==============================] - 0s 3ms/step - loss: 0.3966 - accuracy: 0.8065 - val_loss: 0.4574 - val_accuracy: 0.7724\n",
      "Epoch 73/100\n",
      "16/16 [==============================] - 0s 3ms/step - loss: 0.3959 - accuracy: 0.8024 - val_loss: 0.4580 - val_accuracy: 0.7724\n",
      "Epoch 74/100\n",
      "16/16 [==============================] - 0s 3ms/step - loss: 0.3960 - accuracy: 0.8045 - val_loss: 0.4582 - val_accuracy: 0.7724\n",
      "Epoch 75/100\n",
      "16/16 [==============================] - 0s 3ms/step - loss: 0.3953 - accuracy: 0.8065 - val_loss: 0.4600 - val_accuracy: 0.7805\n",
      "Epoch 76/100\n",
      "16/16 [==============================] - 0s 3ms/step - loss: 0.3953 - accuracy: 0.8086 - val_loss: 0.4587 - val_accuracy: 0.7805\n",
      "Epoch 77/100\n",
      "16/16 [==============================] - 0s 3ms/step - loss: 0.3950 - accuracy: 0.8086 - val_loss: 0.4587 - val_accuracy: 0.7805\n",
      "Epoch 78/100\n",
      "16/16 [==============================] - 0s 3ms/step - loss: 0.3945 - accuracy: 0.8126 - val_loss: 0.4600 - val_accuracy: 0.7642\n",
      "Epoch 79/100\n",
      "16/16 [==============================] - 0s 3ms/step - loss: 0.3948 - accuracy: 0.8065 - val_loss: 0.4605 - val_accuracy: 0.7642\n",
      "Epoch 80/100\n",
      "16/16 [==============================] - 0s 3ms/step - loss: 0.3946 - accuracy: 0.8106 - val_loss: 0.4606 - val_accuracy: 0.7724\n",
      "Epoch 81/100\n",
      "16/16 [==============================] - 0s 3ms/step - loss: 0.3943 - accuracy: 0.8126 - val_loss: 0.4602 - val_accuracy: 0.7642\n",
      "Epoch 82/100\n",
      "16/16 [==============================] - 0s 3ms/step - loss: 0.3937 - accuracy: 0.8126 - val_loss: 0.4593 - val_accuracy: 0.7642\n",
      "Epoch 83/100\n",
      "16/16 [==============================] - 0s 3ms/step - loss: 0.3934 - accuracy: 0.8065 - val_loss: 0.4580 - val_accuracy: 0.7642\n",
      "Epoch 84/100\n",
      "16/16 [==============================] - 0s 3ms/step - loss: 0.3936 - accuracy: 0.8086 - val_loss: 0.4599 - val_accuracy: 0.7642\n",
      "Epoch 85/100\n",
      "16/16 [==============================] - 0s 3ms/step - loss: 0.3933 - accuracy: 0.8106 - val_loss: 0.4589 - val_accuracy: 0.7642\n",
      "Epoch 86/100\n",
      "16/16 [==============================] - 0s 3ms/step - loss: 0.3929 - accuracy: 0.8065 - val_loss: 0.4580 - val_accuracy: 0.7724\n",
      "Epoch 87/100\n",
      "16/16 [==============================] - 0s 3ms/step - loss: 0.3927 - accuracy: 0.8065 - val_loss: 0.4589 - val_accuracy: 0.7805\n",
      "Epoch 88/100\n",
      "16/16 [==============================] - 0s 3ms/step - loss: 0.3921 - accuracy: 0.8106 - val_loss: 0.4597 - val_accuracy: 0.7724\n",
      "Epoch 89/100\n",
      "16/16 [==============================] - 0s 3ms/step - loss: 0.3919 - accuracy: 0.8045 - val_loss: 0.4597 - val_accuracy: 0.7724\n",
      "Epoch 90/100\n",
      "16/16 [==============================] - 0s 3ms/step - loss: 0.3916 - accuracy: 0.8147 - val_loss: 0.4596 - val_accuracy: 0.7724\n",
      "Epoch 91/100\n",
      "16/16 [==============================] - 0s 3ms/step - loss: 0.3919 - accuracy: 0.8086 - val_loss: 0.4587 - val_accuracy: 0.7724\n",
      "Epoch 92/100\n",
      "16/16 [==============================] - 0s 3ms/step - loss: 0.3915 - accuracy: 0.8126 - val_loss: 0.4586 - val_accuracy: 0.7724\n",
      "Epoch 93/100\n",
      "16/16 [==============================] - 0s 3ms/step - loss: 0.3911 - accuracy: 0.8147 - val_loss: 0.4600 - val_accuracy: 0.7805\n",
      "Epoch 94/100\n",
      "16/16 [==============================] - 0s 3ms/step - loss: 0.3908 - accuracy: 0.8126 - val_loss: 0.4609 - val_accuracy: 0.7724\n",
      "Epoch 95/100\n",
      "16/16 [==============================] - 0s 3ms/step - loss: 0.3906 - accuracy: 0.8126 - val_loss: 0.4602 - val_accuracy: 0.7642\n",
      "Epoch 96/100\n",
      "16/16 [==============================] - 0s 3ms/step - loss: 0.3905 - accuracy: 0.8126 - val_loss: 0.4599 - val_accuracy: 0.7642\n",
      "Epoch 97/100\n",
      "16/16 [==============================] - 0s 3ms/step - loss: 0.3898 - accuracy: 0.8126 - val_loss: 0.4593 - val_accuracy: 0.7642\n",
      "Epoch 98/100\n",
      "16/16 [==============================] - 0s 3ms/step - loss: 0.3897 - accuracy: 0.8106 - val_loss: 0.4607 - val_accuracy: 0.7724\n",
      "Epoch 99/100\n",
      "16/16 [==============================] - 0s 3ms/step - loss: 0.3897 - accuracy: 0.8147 - val_loss: 0.4618 - val_accuracy: 0.7642\n",
      "Epoch 100/100\n",
      "16/16 [==============================] - 0s 3ms/step - loss: 0.3891 - accuracy: 0.8167 - val_loss: 0.4620 - val_accuracy: 0.7724\n"
     ]
    }
   ],
   "source": [
    "history = model.fit(X_train,y_train,validation_split=0.2,batch_size =32,epochs=100)"
   ]
  },
  {
   "cell_type": "code",
   "execution_count": 40,
   "id": "4fa67ebd",
   "metadata": {},
   "outputs": [],
   "source": [
    "import kerastuner as kt"
   ]
  },
  {
   "cell_type": "code",
   "execution_count": 41,
   "id": "b5322529",
   "metadata": {},
   "outputs": [],
   "source": [
    "def build_model(hp):\n",
    "    model = Sequential()\n",
    "    model.add(Dense(32,activation='relu',input_dim =8))\n",
    "    model.add(Dense(1,activation='sigmoid'))\n",
    "    \n",
    "    optimizer = hp.Choice('optimizer',values = ['adam','sgd','rmsprop','adadelta'])\n",
    "    \n",
    "    model.compile(loss ='binary_crossentropy',optimizer = optimizers,metrics=['accuracy'])\n",
    "    return model"
   ]
  },
  {
   "cell_type": "code",
   "execution_count": 42,
   "id": "0986dc04",
   "metadata": {},
   "outputs": [
    {
     "name": "stdout",
     "output_type": "stream",
     "text": [
      "INFO:tensorflow:Reloading Oracle from existing project ./untitled_project/oracle.json\n",
      "INFO:tensorflow:Reloading Tuner from ./untitled_project/tuner0.json\n"
     ]
    }
   ],
   "source": [
    "tuner = kt.RandomSearch(build_model,\n",
    "                       objective=\"val_accuracy\",\n",
    "                       max_trials=10)"
   ]
  },
  {
   "cell_type": "code",
   "execution_count": 43,
   "id": "b3e0ec3e",
   "metadata": {},
   "outputs": [
    {
     "name": "stdout",
     "output_type": "stream",
     "text": [
      "\n",
      "Search: Running Trial #4\n",
      "\n",
      "Value             |Best Value So Far |Hyperparameter\n",
      "adagard           |rmsprop           |optimizer\n",
      "\n"
     ]
    },
    {
     "name": "stderr",
     "output_type": "stream",
     "text": [
      "Traceback (most recent call last):\n",
      "  File \"/home/dell/anaconda3/lib/python3.9/site-packages/keras_tuner/engine/tuner.py\", line 158, in _try_build\n",
      "    model = self._build_hypermodel(hp)\n",
      "  File \"/home/dell/anaconda3/lib/python3.9/site-packages/keras_tuner/engine/tuner.py\", line 146, in _build_hypermodel\n",
      "    model = self.hypermodel.build(hp)\n",
      "  File \"/tmp/ipykernel_6657/3334070142.py\", line 8, in build_model\n",
      "    model.compile(loss ='binary_crossentropy',optimizer = optimizers,metrics=['accuracy'])\n",
      "  File \"/home/dell/anaconda3/lib/python3.9/site-packages/keras/utils/traceback_utils.py\", line 67, in error_handler\n",
      "    raise e.with_traceback(filtered_tb) from None\n",
      "  File \"/home/dell/anaconda3/lib/python3.9/site-packages/keras/utils/generic_utils.py\", line 562, in class_and_config_for_serialized_keras_object\n",
      "    raise ValueError(\n",
      "ValueError: Unknown optimizer: adagard. Please ensure this object is passed to the `custom_objects` argument. See https://www.tensorflow.org/guide/keras/save_and_serialize#registering_the_custom_object for details.\n"
     ]
    },
    {
     "name": "stdout",
     "output_type": "stream",
     "text": [
      "Invalid model 0/5\n"
     ]
    },
    {
     "name": "stderr",
     "output_type": "stream",
     "text": [
      "Traceback (most recent call last):\n",
      "  File \"/home/dell/anaconda3/lib/python3.9/site-packages/keras_tuner/engine/tuner.py\", line 158, in _try_build\n",
      "    model = self._build_hypermodel(hp)\n",
      "  File \"/home/dell/anaconda3/lib/python3.9/site-packages/keras_tuner/engine/tuner.py\", line 146, in _build_hypermodel\n",
      "    model = self.hypermodel.build(hp)\n",
      "  File \"/tmp/ipykernel_6657/3334070142.py\", line 8, in build_model\n",
      "    model.compile(loss ='binary_crossentropy',optimizer = optimizers,metrics=['accuracy'])\n",
      "  File \"/home/dell/anaconda3/lib/python3.9/site-packages/keras/utils/traceback_utils.py\", line 67, in error_handler\n",
      "    raise e.with_traceback(filtered_tb) from None\n",
      "  File \"/home/dell/anaconda3/lib/python3.9/site-packages/keras/utils/generic_utils.py\", line 562, in class_and_config_for_serialized_keras_object\n",
      "    raise ValueError(\n",
      "ValueError: Unknown optimizer: adagard. Please ensure this object is passed to the `custom_objects` argument. See https://www.tensorflow.org/guide/keras/save_and_serialize#registering_the_custom_object for details.\n"
     ]
    },
    {
     "name": "stdout",
     "output_type": "stream",
     "text": [
      "Invalid model 1/5\n"
     ]
    },
    {
     "name": "stderr",
     "output_type": "stream",
     "text": [
      "Traceback (most recent call last):\n",
      "  File \"/home/dell/anaconda3/lib/python3.9/site-packages/keras_tuner/engine/tuner.py\", line 158, in _try_build\n",
      "    model = self._build_hypermodel(hp)\n",
      "  File \"/home/dell/anaconda3/lib/python3.9/site-packages/keras_tuner/engine/tuner.py\", line 146, in _build_hypermodel\n",
      "    model = self.hypermodel.build(hp)\n",
      "  File \"/tmp/ipykernel_6657/3334070142.py\", line 8, in build_model\n",
      "    model.compile(loss ='binary_crossentropy',optimizer = optimizers,metrics=['accuracy'])\n",
      "  File \"/home/dell/anaconda3/lib/python3.9/site-packages/keras/utils/traceback_utils.py\", line 67, in error_handler\n",
      "    raise e.with_traceback(filtered_tb) from None\n",
      "  File \"/home/dell/anaconda3/lib/python3.9/site-packages/keras/utils/generic_utils.py\", line 562, in class_and_config_for_serialized_keras_object\n",
      "    raise ValueError(\n",
      "ValueError: Unknown optimizer: adagard. Please ensure this object is passed to the `custom_objects` argument. See https://www.tensorflow.org/guide/keras/save_and_serialize#registering_the_custom_object for details.\n"
     ]
    },
    {
     "name": "stdout",
     "output_type": "stream",
     "text": [
      "Invalid model 2/5\n"
     ]
    },
    {
     "name": "stderr",
     "output_type": "stream",
     "text": [
      "Traceback (most recent call last):\n",
      "  File \"/home/dell/anaconda3/lib/python3.9/site-packages/keras_tuner/engine/tuner.py\", line 158, in _try_build\n",
      "    model = self._build_hypermodel(hp)\n",
      "  File \"/home/dell/anaconda3/lib/python3.9/site-packages/keras_tuner/engine/tuner.py\", line 146, in _build_hypermodel\n",
      "    model = self.hypermodel.build(hp)\n",
      "  File \"/tmp/ipykernel_6657/3334070142.py\", line 8, in build_model\n",
      "    model.compile(loss ='binary_crossentropy',optimizer = optimizers,metrics=['accuracy'])\n",
      "  File \"/home/dell/anaconda3/lib/python3.9/site-packages/keras/utils/traceback_utils.py\", line 67, in error_handler\n",
      "    raise e.with_traceback(filtered_tb) from None\n",
      "  File \"/home/dell/anaconda3/lib/python3.9/site-packages/keras/utils/generic_utils.py\", line 562, in class_and_config_for_serialized_keras_object\n",
      "    raise ValueError(\n",
      "ValueError: Unknown optimizer: adagard. Please ensure this object is passed to the `custom_objects` argument. See https://www.tensorflow.org/guide/keras/save_and_serialize#registering_the_custom_object for details.\n"
     ]
    },
    {
     "name": "stdout",
     "output_type": "stream",
     "text": [
      "Invalid model 3/5\n"
     ]
    },
    {
     "name": "stderr",
     "output_type": "stream",
     "text": [
      "Traceback (most recent call last):\n",
      "  File \"/home/dell/anaconda3/lib/python3.9/site-packages/keras_tuner/engine/tuner.py\", line 158, in _try_build\n",
      "    model = self._build_hypermodel(hp)\n",
      "  File \"/home/dell/anaconda3/lib/python3.9/site-packages/keras_tuner/engine/tuner.py\", line 146, in _build_hypermodel\n",
      "    model = self.hypermodel.build(hp)\n",
      "  File \"/tmp/ipykernel_6657/3334070142.py\", line 8, in build_model\n",
      "    model.compile(loss ='binary_crossentropy',optimizer = optimizers,metrics=['accuracy'])\n",
      "  File \"/home/dell/anaconda3/lib/python3.9/site-packages/keras/utils/traceback_utils.py\", line 67, in error_handler\n",
      "    raise e.with_traceback(filtered_tb) from None\n",
      "  File \"/home/dell/anaconda3/lib/python3.9/site-packages/keras/utils/generic_utils.py\", line 562, in class_and_config_for_serialized_keras_object\n",
      "    raise ValueError(\n",
      "ValueError: Unknown optimizer: adagard. Please ensure this object is passed to the `custom_objects` argument. See https://www.tensorflow.org/guide/keras/save_and_serialize#registering_the_custom_object for details.\n"
     ]
    },
    {
     "name": "stdout",
     "output_type": "stream",
     "text": [
      "Invalid model 4/5\n",
      "Invalid model 5/5\n"
     ]
    },
    {
     "name": "stderr",
     "output_type": "stream",
     "text": [
      "Traceback (most recent call last):\n",
      "  File \"/home/dell/anaconda3/lib/python3.9/site-packages/keras_tuner/engine/tuner.py\", line 158, in _try_build\n",
      "    model = self._build_hypermodel(hp)\n",
      "  File \"/home/dell/anaconda3/lib/python3.9/site-packages/keras_tuner/engine/tuner.py\", line 146, in _build_hypermodel\n",
      "    model = self.hypermodel.build(hp)\n",
      "  File \"/tmp/ipykernel_6657/3334070142.py\", line 8, in build_model\n",
      "    model.compile(loss ='binary_crossentropy',optimizer = optimizers,metrics=['accuracy'])\n",
      "  File \"/home/dell/anaconda3/lib/python3.9/site-packages/keras/utils/traceback_utils.py\", line 67, in error_handler\n",
      "    raise e.with_traceback(filtered_tb) from None\n",
      "  File \"/home/dell/anaconda3/lib/python3.9/site-packages/keras/utils/generic_utils.py\", line 562, in class_and_config_for_serialized_keras_object\n",
      "    raise ValueError(\n",
      "ValueError: Unknown optimizer: adagard. Please ensure this object is passed to the `custom_objects` argument. See https://www.tensorflow.org/guide/keras/save_and_serialize#registering_the_custom_object for details.\n"
     ]
    },
    {
     "ename": "RuntimeError",
     "evalue": "Too many failed attempts to build model.",
     "output_type": "error",
     "traceback": [
      "\u001b[0;31m---------------------------------------------------------------------------\u001b[0m",
      "\u001b[0;31mValueError\u001b[0m                                Traceback (most recent call last)",
      "\u001b[0;32m~/anaconda3/lib/python3.9/site-packages/keras_tuner/engine/tuner.py\u001b[0m in \u001b[0;36m_try_build\u001b[0;34m(self, hp)\u001b[0m\n\u001b[1;32m    157\u001b[0m             \u001b[0;32mtry\u001b[0m\u001b[0;34m:\u001b[0m\u001b[0;34m\u001b[0m\u001b[0;34m\u001b[0m\u001b[0m\n\u001b[0;32m--> 158\u001b[0;31m                 \u001b[0mmodel\u001b[0m \u001b[0;34m=\u001b[0m \u001b[0mself\u001b[0m\u001b[0;34m.\u001b[0m\u001b[0m_build_hypermodel\u001b[0m\u001b[0;34m(\u001b[0m\u001b[0mhp\u001b[0m\u001b[0;34m)\u001b[0m\u001b[0;34m\u001b[0m\u001b[0;34m\u001b[0m\u001b[0m\n\u001b[0m\u001b[1;32m    159\u001b[0m             \u001b[0;32mexcept\u001b[0m\u001b[0;34m:\u001b[0m\u001b[0;34m\u001b[0m\u001b[0;34m\u001b[0m\u001b[0m\n",
      "\u001b[0;32m~/anaconda3/lib/python3.9/site-packages/keras_tuner/engine/tuner.py\u001b[0m in \u001b[0;36m_build_hypermodel\u001b[0;34m(self, hp)\u001b[0m\n\u001b[1;32m    145\u001b[0m         \u001b[0;32mwith\u001b[0m \u001b[0mmaybe_distribute\u001b[0m\u001b[0;34m(\u001b[0m\u001b[0mself\u001b[0m\u001b[0;34m.\u001b[0m\u001b[0mdistribution_strategy\u001b[0m\u001b[0;34m)\u001b[0m\u001b[0;34m:\u001b[0m\u001b[0;34m\u001b[0m\u001b[0;34m\u001b[0m\u001b[0m\n\u001b[0;32m--> 146\u001b[0;31m             \u001b[0mmodel\u001b[0m \u001b[0;34m=\u001b[0m \u001b[0mself\u001b[0m\u001b[0;34m.\u001b[0m\u001b[0mhypermodel\u001b[0m\u001b[0;34m.\u001b[0m\u001b[0mbuild\u001b[0m\u001b[0;34m(\u001b[0m\u001b[0mhp\u001b[0m\u001b[0;34m)\u001b[0m\u001b[0;34m\u001b[0m\u001b[0;34m\u001b[0m\u001b[0m\n\u001b[0m\u001b[1;32m    147\u001b[0m             \u001b[0mself\u001b[0m\u001b[0;34m.\u001b[0m\u001b[0m_override_compile_args\u001b[0m\u001b[0;34m(\u001b[0m\u001b[0mmodel\u001b[0m\u001b[0;34m)\u001b[0m\u001b[0;34m\u001b[0m\u001b[0;34m\u001b[0m\u001b[0m\n",
      "\u001b[0;32m/tmp/ipykernel_6657/3334070142.py\u001b[0m in \u001b[0;36mbuild_model\u001b[0;34m(hp)\u001b[0m\n\u001b[1;32m      7\u001b[0m \u001b[0;34m\u001b[0m\u001b[0m\n\u001b[0;32m----> 8\u001b[0;31m     \u001b[0mmodel\u001b[0m\u001b[0;34m.\u001b[0m\u001b[0mcompile\u001b[0m\u001b[0;34m(\u001b[0m\u001b[0mloss\u001b[0m \u001b[0;34m=\u001b[0m\u001b[0;34m'binary_crossentropy'\u001b[0m\u001b[0;34m,\u001b[0m\u001b[0moptimizer\u001b[0m \u001b[0;34m=\u001b[0m \u001b[0moptimizers\u001b[0m\u001b[0;34m,\u001b[0m\u001b[0mmetrics\u001b[0m\u001b[0;34m=\u001b[0m\u001b[0;34m[\u001b[0m\u001b[0;34m'accuracy'\u001b[0m\u001b[0;34m]\u001b[0m\u001b[0;34m)\u001b[0m\u001b[0;34m\u001b[0m\u001b[0;34m\u001b[0m\u001b[0m\n\u001b[0m\u001b[1;32m      9\u001b[0m     \u001b[0;32mreturn\u001b[0m \u001b[0mmodel\u001b[0m\u001b[0;34m\u001b[0m\u001b[0;34m\u001b[0m\u001b[0m\n",
      "\u001b[0;32m~/anaconda3/lib/python3.9/site-packages/keras/utils/traceback_utils.py\u001b[0m in \u001b[0;36merror_handler\u001b[0;34m(*args, **kwargs)\u001b[0m\n\u001b[1;32m     66\u001b[0m       \u001b[0mfiltered_tb\u001b[0m \u001b[0;34m=\u001b[0m \u001b[0m_process_traceback_frames\u001b[0m\u001b[0;34m(\u001b[0m\u001b[0me\u001b[0m\u001b[0;34m.\u001b[0m\u001b[0m__traceback__\u001b[0m\u001b[0;34m)\u001b[0m\u001b[0;34m\u001b[0m\u001b[0;34m\u001b[0m\u001b[0m\n\u001b[0;32m---> 67\u001b[0;31m       \u001b[0;32mraise\u001b[0m \u001b[0me\u001b[0m\u001b[0;34m.\u001b[0m\u001b[0mwith_traceback\u001b[0m\u001b[0;34m(\u001b[0m\u001b[0mfiltered_tb\u001b[0m\u001b[0;34m)\u001b[0m \u001b[0;32mfrom\u001b[0m \u001b[0;32mNone\u001b[0m\u001b[0;34m\u001b[0m\u001b[0;34m\u001b[0m\u001b[0m\n\u001b[0m\u001b[1;32m     68\u001b[0m     \u001b[0;32mfinally\u001b[0m\u001b[0;34m:\u001b[0m\u001b[0;34m\u001b[0m\u001b[0;34m\u001b[0m\u001b[0m\n",
      "\u001b[0;32m~/anaconda3/lib/python3.9/site-packages/keras/utils/generic_utils.py\u001b[0m in \u001b[0;36mclass_and_config_for_serialized_keras_object\u001b[0;34m(config, module_objects, custom_objects, printable_module_name)\u001b[0m\n\u001b[1;32m    561\u001b[0m   \u001b[0;32mif\u001b[0m \u001b[0mcls\u001b[0m \u001b[0;32mis\u001b[0m \u001b[0;32mNone\u001b[0m\u001b[0;34m:\u001b[0m\u001b[0;34m\u001b[0m\u001b[0;34m\u001b[0m\u001b[0m\n\u001b[0;32m--> 562\u001b[0;31m     raise ValueError(\n\u001b[0m\u001b[1;32m    563\u001b[0m         \u001b[0;34mf'Unknown {printable_module_name}: {class_name}. Please ensure this '\u001b[0m\u001b[0;34m\u001b[0m\u001b[0;34m\u001b[0m\u001b[0m\n",
      "\u001b[0;31mValueError\u001b[0m: Unknown optimizer: adagard. Please ensure this object is passed to the `custom_objects` argument. See https://www.tensorflow.org/guide/keras/save_and_serialize#registering_the_custom_object for details.",
      "\nDuring handling of the above exception, another exception occurred:\n",
      "\u001b[0;31mRuntimeError\u001b[0m                              Traceback (most recent call last)",
      "\u001b[0;32m/tmp/ipykernel_6657/482159581.py\u001b[0m in \u001b[0;36m<module>\u001b[0;34m\u001b[0m\n\u001b[0;32m----> 1\u001b[0;31m \u001b[0mtuner\u001b[0m\u001b[0;34m.\u001b[0m\u001b[0msearch\u001b[0m\u001b[0;34m(\u001b[0m\u001b[0mX_train\u001b[0m\u001b[0;34m,\u001b[0m\u001b[0my_train\u001b[0m\u001b[0;34m,\u001b[0m\u001b[0mvalidation_data\u001b[0m \u001b[0;34m=\u001b[0m \u001b[0;34m(\u001b[0m\u001b[0mX_test\u001b[0m\u001b[0;34m,\u001b[0m\u001b[0my_test\u001b[0m\u001b[0;34m)\u001b[0m\u001b[0;34m)\u001b[0m\u001b[0;34m\u001b[0m\u001b[0;34m\u001b[0m\u001b[0m\n\u001b[0m",
      "\u001b[0;32m~/anaconda3/lib/python3.9/site-packages/keras_tuner/engine/base_tuner.py\u001b[0m in \u001b[0;36msearch\u001b[0;34m(self, *fit_args, **fit_kwargs)\u001b[0m\n\u001b[1;32m    181\u001b[0m \u001b[0;34m\u001b[0m\u001b[0m\n\u001b[1;32m    182\u001b[0m             \u001b[0mself\u001b[0m\u001b[0;34m.\u001b[0m\u001b[0mon_trial_begin\u001b[0m\u001b[0;34m(\u001b[0m\u001b[0mtrial\u001b[0m\u001b[0;34m)\u001b[0m\u001b[0;34m\u001b[0m\u001b[0;34m\u001b[0m\u001b[0m\n\u001b[0;32m--> 183\u001b[0;31m             \u001b[0mresults\u001b[0m \u001b[0;34m=\u001b[0m \u001b[0mself\u001b[0m\u001b[0;34m.\u001b[0m\u001b[0mrun_trial\u001b[0m\u001b[0;34m(\u001b[0m\u001b[0mtrial\u001b[0m\u001b[0;34m,\u001b[0m \u001b[0;34m*\u001b[0m\u001b[0mfit_args\u001b[0m\u001b[0;34m,\u001b[0m \u001b[0;34m**\u001b[0m\u001b[0mfit_kwargs\u001b[0m\u001b[0;34m)\u001b[0m\u001b[0;34m\u001b[0m\u001b[0;34m\u001b[0m\u001b[0m\n\u001b[0m\u001b[1;32m    184\u001b[0m             \u001b[0;31m# `results` is None indicates user updated oracle in `run_trial()`.\u001b[0m\u001b[0;34m\u001b[0m\u001b[0;34m\u001b[0m\u001b[0m\n\u001b[1;32m    185\u001b[0m             \u001b[0;32mif\u001b[0m \u001b[0mresults\u001b[0m \u001b[0;32mis\u001b[0m \u001b[0;32mNone\u001b[0m\u001b[0;34m:\u001b[0m\u001b[0;34m\u001b[0m\u001b[0;34m\u001b[0m\u001b[0m\n",
      "\u001b[0;32m~/anaconda3/lib/python3.9/site-packages/keras_tuner/engine/tuner.py\u001b[0m in \u001b[0;36mrun_trial\u001b[0;34m(self, trial, *args, **kwargs)\u001b[0m\n\u001b[1;32m    293\u001b[0m             \u001b[0mcallbacks\u001b[0m\u001b[0;34m.\u001b[0m\u001b[0mappend\u001b[0m\u001b[0;34m(\u001b[0m\u001b[0mmodel_checkpoint\u001b[0m\u001b[0;34m)\u001b[0m\u001b[0;34m\u001b[0m\u001b[0;34m\u001b[0m\u001b[0m\n\u001b[1;32m    294\u001b[0m             \u001b[0mcopied_kwargs\u001b[0m\u001b[0;34m[\u001b[0m\u001b[0;34m\"callbacks\"\u001b[0m\u001b[0;34m]\u001b[0m \u001b[0;34m=\u001b[0m \u001b[0mcallbacks\u001b[0m\u001b[0;34m\u001b[0m\u001b[0;34m\u001b[0m\u001b[0m\n\u001b[0;32m--> 295\u001b[0;31m             \u001b[0mobj_value\u001b[0m \u001b[0;34m=\u001b[0m \u001b[0mself\u001b[0m\u001b[0;34m.\u001b[0m\u001b[0m_build_and_fit_model\u001b[0m\u001b[0;34m(\u001b[0m\u001b[0mtrial\u001b[0m\u001b[0;34m,\u001b[0m \u001b[0;34m*\u001b[0m\u001b[0margs\u001b[0m\u001b[0;34m,\u001b[0m \u001b[0;34m**\u001b[0m\u001b[0mcopied_kwargs\u001b[0m\u001b[0;34m)\u001b[0m\u001b[0;34m\u001b[0m\u001b[0;34m\u001b[0m\u001b[0m\n\u001b[0m\u001b[1;32m    296\u001b[0m \u001b[0;34m\u001b[0m\u001b[0m\n\u001b[1;32m    297\u001b[0m             \u001b[0mhistories\u001b[0m\u001b[0;34m.\u001b[0m\u001b[0mappend\u001b[0m\u001b[0;34m(\u001b[0m\u001b[0mobj_value\u001b[0m\u001b[0;34m)\u001b[0m\u001b[0;34m\u001b[0m\u001b[0;34m\u001b[0m\u001b[0m\n",
      "\u001b[0;32m~/anaconda3/lib/python3.9/site-packages/keras_tuner/engine/tuner.py\u001b[0m in \u001b[0;36m_build_and_fit_model\u001b[0;34m(self, trial, *args, **kwargs)\u001b[0m\n\u001b[1;32m    219\u001b[0m         \"\"\"\n\u001b[1;32m    220\u001b[0m         \u001b[0mhp\u001b[0m \u001b[0;34m=\u001b[0m \u001b[0mtrial\u001b[0m\u001b[0;34m.\u001b[0m\u001b[0mhyperparameters\u001b[0m\u001b[0;34m\u001b[0m\u001b[0;34m\u001b[0m\u001b[0m\n\u001b[0;32m--> 221\u001b[0;31m         \u001b[0mmodel\u001b[0m \u001b[0;34m=\u001b[0m \u001b[0mself\u001b[0m\u001b[0;34m.\u001b[0m\u001b[0m_try_build\u001b[0m\u001b[0;34m(\u001b[0m\u001b[0mhp\u001b[0m\u001b[0;34m)\u001b[0m\u001b[0;34m\u001b[0m\u001b[0;34m\u001b[0m\u001b[0m\n\u001b[0m\u001b[1;32m    222\u001b[0m         \u001b[0mresults\u001b[0m \u001b[0;34m=\u001b[0m \u001b[0mself\u001b[0m\u001b[0;34m.\u001b[0m\u001b[0mhypermodel\u001b[0m\u001b[0;34m.\u001b[0m\u001b[0mfit\u001b[0m\u001b[0;34m(\u001b[0m\u001b[0mhp\u001b[0m\u001b[0;34m,\u001b[0m \u001b[0mmodel\u001b[0m\u001b[0;34m,\u001b[0m \u001b[0;34m*\u001b[0m\u001b[0margs\u001b[0m\u001b[0;34m,\u001b[0m \u001b[0;34m**\u001b[0m\u001b[0mkwargs\u001b[0m\u001b[0;34m)\u001b[0m\u001b[0;34m\u001b[0m\u001b[0;34m\u001b[0m\u001b[0m\n\u001b[1;32m    223\u001b[0m         tuner_utils.validate_trial_results(\n",
      "\u001b[0;32m~/anaconda3/lib/python3.9/site-packages/keras_tuner/engine/tuner.py\u001b[0m in \u001b[0;36m_try_build\u001b[0;34m(self, hp)\u001b[0m\n\u001b[1;32m    164\u001b[0m \u001b[0;34m\u001b[0m\u001b[0m\n\u001b[1;32m    165\u001b[0m                 \u001b[0;32mif\u001b[0m \u001b[0mi\u001b[0m \u001b[0;34m==\u001b[0m \u001b[0mMAX_FAIL_STREAK\u001b[0m\u001b[0;34m:\u001b[0m\u001b[0;34m\u001b[0m\u001b[0;34m\u001b[0m\u001b[0m\n\u001b[0;32m--> 166\u001b[0;31m                     \u001b[0;32mraise\u001b[0m \u001b[0mRuntimeError\u001b[0m\u001b[0;34m(\u001b[0m\u001b[0;34m\"Too many failed attempts to build model.\"\u001b[0m\u001b[0;34m)\u001b[0m\u001b[0;34m\u001b[0m\u001b[0;34m\u001b[0m\u001b[0m\n\u001b[0m\u001b[1;32m    167\u001b[0m                 \u001b[0;32mcontinue\u001b[0m\u001b[0;34m\u001b[0m\u001b[0;34m\u001b[0m\u001b[0m\n\u001b[1;32m    168\u001b[0m \u001b[0;34m\u001b[0m\u001b[0m\n",
      "\u001b[0;31mRuntimeError\u001b[0m: Too many failed attempts to build model."
     ]
    }
   ],
   "source": [
    "tuner.search(X_train,y_train,validation_data = (X_test,y_test))"
   ]
  },
  {
   "cell_type": "code",
   "execution_count": null,
   "id": "4411f7c3",
   "metadata": {},
   "outputs": [],
   "source": []
  }
 ],
 "metadata": {
  "kernelspec": {
   "display_name": "Python 3 (ipykernel)",
   "language": "python",
   "name": "python3"
  },
  "language_info": {
   "codemirror_mode": {
    "name": "ipython",
    "version": 3
   },
   "file_extension": ".py",
   "mimetype": "text/x-python",
   "name": "python",
   "nbconvert_exporter": "python",
   "pygments_lexer": "ipython3",
   "version": "3.9.7"
  }
 },
 "nbformat": 4,
 "nbformat_minor": 5
}
