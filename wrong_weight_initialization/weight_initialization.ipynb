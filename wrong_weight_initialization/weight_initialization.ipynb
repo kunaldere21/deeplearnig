{
 "cells": [
  {
   "cell_type": "code",
   "execution_count": 69,
   "id": "1ce73bb4",
   "metadata": {},
   "outputs": [],
   "source": [
    "import numpy as np\n",
    "import pandas as pd\n",
    "import matplotlib.pyplot as plt\n",
    "from sklearn.datasets import make_moons\n",
    "import seaborn as sns\n",
    "from mlxtend.plotting import plot_decision_regions\n",
    "\n",
    "import tensorflow\n",
    "from tensorflow.keras.models import Sequential\n",
    "from tensorflow.keras.layers import Dense\n",
    "from tensorflow.keras.layers import Dropout\n",
    "from tensorflow.keras.optimizers import Adam"
   ]
  },
  {
   "cell_type": "code",
   "execution_count": 70,
   "id": "ba850087",
   "metadata": {},
   "outputs": [],
   "source": [
    "X, y = make_moons(100, noise=0.25,random_state=2)"
   ]
  },
  {
   "cell_type": "code",
   "execution_count": 71,
   "id": "cdd282e7",
   "metadata": {},
   "outputs": [
    {
     "data": {
      "image/png": "[encoded data removed]",
      "text/plain": [
       "<Figure size 432x288 with 1 Axes>"
      ]
     },
     "metadata": {
      "needs_background": "light"
     },
     "output_type": "display_data"
    }
   ],
   "source": [
    "import matplotlib.pyplot as plt\n",
    "plt.scatter(X[:,0], X[:,1], c=y)\n",
    "plt.show()"
   ]
  },
  {
   "cell_type": "code",
   "execution_count": 72,
   "id": "164c9ae6",
   "metadata": {},
   "outputs": [
    {
     "name": "stdout",
     "output_type": "stream",
     "text": [
      "Model: \"sequential_6\"\n",
      "_________________________________________________________________\n",
      " Layer (type)                Output Shape              Param #   \n",
      "=================================================================\n",
      " dense_12 (Dense)            (None, 2)                 6         \n",
      "                                                                 \n",
      " dense_13 (Dense)            (None, 1)                 3         \n",
      "                                                                 \n",
      "=================================================================\n",
      "Total params: 9\n",
      "Trainable params: 9\n",
      "Non-trainable params: 0\n",
      "_________________________________________________________________\n"
     ]
    }
   ],
   "source": [
    "model = Sequential()\n",
    "\n",
    "model.add(Dense(2,activation='relu',input_dim=2))\n",
    "model.add(Dense(1,activation='sigmoid'))\n",
    "\n",
    "model.summary()"
   ]
  },
  {
   "cell_type": "code",
   "execution_count": 73,
   "id": "70f2ed67",
   "metadata": {},
   "outputs": [],
   "source": [
    "initial_weights = model.get_weights()"
   ]
  },
  {
   "cell_type": "code",
   "execution_count": 74,
   "id": "bd3cd40b",
   "metadata": {},
   "outputs": [],
   "source": [
    "initial_weights[0] = np.zeros(model.get_weights()[0].shape)\n",
    "initial_weights[1] = np.zeros(model.get_weights()[1].shape)\n",
    "initial_weights[2] = np.zeros(model.get_weights()[2].shape)\n",
    "initial_weights[3] = np.zeros(model.get_weights()[3].shape)"
   ]
  },
  {
   "cell_type": "code",
   "execution_count": 75,
   "id": "8060dea9",
   "metadata": {},
   "outputs": [
    {
     "data": {
      "text/plain": [
       "[array([[0., 0.],\n",
       "        [0., 0.]]),\n",
       " array([0., 0.]),\n",
       " array([[0.],\n",
       "        [0.]]),\n",
       " array([0.])]"
      ]
     },
     "execution_count": 75,
     "metadata": {},
     "output_type": "execute_result"
    }
   ],
   "source": [
    "initial_weights"
   ]
  },
  {
   "cell_type": "code",
   "execution_count": 76,
   "id": "bee31b21",
   "metadata": {},
   "outputs": [],
   "source": [
    "model.set_weights(initial_weights)"
   ]
  },
  {
   "cell_type": "code",
   "execution_count": 77,
   "id": "28912540",
   "metadata": {},
   "outputs": [
    {
     "data": {
      "text/plain": [
       "[array([[0., 0.],\n",
       "        [0., 0.]], dtype=float32),\n",
       " array([0., 0.], dtype=float32),\n",
       " array([[0.],\n",
       "        [0.]], dtype=float32),\n",
       " array([0.], dtype=float32)]"
      ]
     },
     "execution_count": 77,
     "metadata": {},
     "output_type": "execute_result"
    }
   ],
   "source": [
    "model.get_weights()"
   ]
  },
  {
   "cell_type": "code",
   "execution_count": 78,
   "id": "a5ee44f8",
   "metadata": {},
   "outputs": [],
   "source": [
    "model.compile(loss = \"binary_crossentropy\",optimizer='adam', metrics=['accuracy'])"
   ]
  },
  {
   "cell_type": "code",
   "execution_count": 79,
   "id": "826a6d4e",
   "metadata": {},
   "outputs": [
    {
     "name": "stdout",
     "output_type": "stream",
     "text": [
      "Epoch 1/100\n",
      "3/3 [==============================] - 0s 51ms/step - loss: 0.6931 - accuracy: 0.4875 - val_loss: 0.6935 - val_accuracy: 0.3500\n",
      "Epoch 2/100\n",
      "3/3 [==============================] - 0s 10ms/step - loss: 0.6931 - accuracy: 0.5375 - val_loss: 0.6936 - val_accuracy: 0.3500\n",
      "Epoch 3/100\n",
      "3/3 [==============================] - 0s 10ms/step - loss: 0.6931 - accuracy: 0.5375 - val_loss: 0.6938 - val_accuracy: 0.3500\n",
      "Epoch 4/100\n",
      "3/3 [==============================] - 0s 11ms/step - loss: 0.6930 - accuracy: 0.5375 - val_loss: 0.6939 - val_accuracy: 0.3500\n",
      "Epoch 5/100\n",
      "3/3 [==============================] - 0s 10ms/step - loss: 0.6929 - accuracy: 0.5375 - val_loss: 0.6941 - val_accuracy: 0.3500\n",
      "Epoch 6/100\n",
      "3/3 [==============================] - 0s 10ms/step - loss: 0.6929 - accuracy: 0.5375 - val_loss: 0.6943 - val_accuracy: 0.3500\n",
      "Epoch 7/100\n",
      "3/3 [==============================] - 0s 10ms/step - loss: 0.6929 - accuracy: 0.5375 - val_loss: 0.6944 - val_accuracy: 0.3500\n",
      "Epoch 8/100\n",
      "3/3 [==============================] - 0s 9ms/step - loss: 0.6928 - accuracy: 0.5375 - val_loss: 0.6946 - val_accuracy: 0.3500\n",
      "Epoch 9/100\n",
      "3/3 [==============================] - 0s 10ms/step - loss: 0.6928 - accuracy: 0.5375 - val_loss: 0.6948 - val_accuracy: 0.3500\n",
      "Epoch 10/100\n",
      "3/3 [==============================] - 0s 9ms/step - loss: 0.6928 - accuracy: 0.5375 - val_loss: 0.6950 - val_accuracy: 0.3500\n",
      "Epoch 11/100\n",
      "3/3 [==============================] - 0s 10ms/step - loss: 0.6927 - accuracy: 0.5375 - val_loss: 0.6952 - val_accuracy: 0.3500\n",
      "Epoch 12/100\n",
      "3/3 [==============================] - 0s 10ms/step - loss: 0.6927 - accuracy: 0.5375 - val_loss: 0.6954 - val_accuracy: 0.3500\n",
      "Epoch 13/100\n",
      "3/3 [==============================] - 0s 11ms/step - loss: 0.6926 - accuracy: 0.5375 - val_loss: 0.6956 - val_accuracy: 0.3500\n",
      "Epoch 14/100\n",
      "3/3 [==============================] - 0s 10ms/step - loss: 0.6926 - accuracy: 0.5375 - val_loss: 0.6958 - val_accuracy: 0.3500\n",
      "Epoch 15/100\n",
      "3/3 [==============================] - 0s 10ms/step - loss: 0.6925 - accuracy: 0.5375 - val_loss: 0.6959 - val_accuracy: 0.3500\n",
      "Epoch 16/100\n",
      "3/3 [==============================] - 0s 10ms/step - loss: 0.6925 - accuracy: 0.5375 - val_loss: 0.6960 - val_accuracy: 0.3500\n",
      "Epoch 17/100\n",
      "3/3 [==============================] - 0s 11ms/step - loss: 0.6925 - accuracy: 0.5375 - val_loss: 0.6961 - val_accuracy: 0.3500\n",
      "Epoch 18/100\n",
      "3/3 [==============================] - 0s 11ms/step - loss: 0.6924 - accuracy: 0.5375 - val_loss: 0.6963 - val_accuracy: 0.3500\n",
      "Epoch 19/100\n",
      "3/3 [==============================] - 0s 11ms/step - loss: 0.6924 - accuracy: 0.5375 - val_loss: 0.6964 - val_accuracy: 0.3500\n",
      "Epoch 20/100\n",
      "3/3 [==============================] - 0s 11ms/step - loss: 0.6924 - accuracy: 0.5375 - val_loss: 0.6966 - val_accuracy: 0.3500\n",
      "Epoch 21/100\n",
      "3/3 [==============================] - 0s 10ms/step - loss: 0.6923 - accuracy: 0.5375 - val_loss: 0.6968 - val_accuracy: 0.3500\n",
      "Epoch 22/100\n",
      "3/3 [==============================] - 0s 10ms/step - loss: 0.6923 - accuracy: 0.5375 - val_loss: 0.6971 - val_accuracy: 0.3500\n",
      "Epoch 23/100\n",
      "3/3 [==============================] - 0s 10ms/step - loss: 0.6923 - accuracy: 0.5375 - val_loss: 0.6973 - val_accuracy: 0.3500\n",
      "Epoch 24/100\n",
      "3/3 [==============================] - 0s 11ms/step - loss: 0.6922 - accuracy: 0.5375 - val_loss: 0.6975 - val_accuracy: 0.3500\n",
      "Epoch 25/100\n",
      "3/3 [==============================] - 0s 10ms/step - loss: 0.6922 - accuracy: 0.5375 - val_loss: 0.6977 - val_accuracy: 0.3500\n",
      "Epoch 26/100\n",
      "3/3 [==============================] - 0s 11ms/step - loss: 0.6921 - accuracy: 0.5375 - val_loss: 0.6979 - val_accuracy: 0.3500\n",
      "Epoch 27/100\n",
      "3/3 [==============================] - 0s 10ms/step - loss: 0.6921 - accuracy: 0.5375 - val_loss: 0.6981 - val_accuracy: 0.3500\n",
      "Epoch 28/100\n",
      "3/3 [==============================] - 0s 10ms/step - loss: 0.6921 - accuracy: 0.5375 - val_loss: 0.6982 - val_accuracy: 0.3500\n",
      "Epoch 29/100\n",
      "3/3 [==============================] - 0s 11ms/step - loss: 0.6920 - accuracy: 0.5375 - val_loss: 0.6984 - val_accuracy: 0.3500\n",
      "Epoch 30/100\n",
      "3/3 [==============================] - 0s 10ms/step - loss: 0.6920 - accuracy: 0.5375 - val_loss: 0.6985 - val_accuracy: 0.3500\n",
      "Epoch 31/100\n",
      "3/3 [==============================] - 0s 10ms/step - loss: 0.6920 - accuracy: 0.5375 - val_loss: 0.6987 - val_accuracy: 0.3500\n",
      "Epoch 32/100\n",
      "3/3 [==============================] - 0s 10ms/step - loss: 0.6920 - accuracy: 0.5375 - val_loss: 0.6989 - val_accuracy: 0.3500\n",
      "Epoch 33/100\n",
      "3/3 [==============================] - 0s 11ms/step - loss: 0.6919 - accuracy: 0.5375 - val_loss: 0.6991 - val_accuracy: 0.3500\n",
      "Epoch 34/100\n",
      "3/3 [==============================] - 0s 12ms/step - loss: 0.6919 - accuracy: 0.5375 - val_loss: 0.6993 - val_accuracy: 0.3500\n",
      "Epoch 35/100\n",
      "3/3 [==============================] - 0s 11ms/step - loss: 0.6918 - accuracy: 0.5375 - val_loss: 0.6995 - val_accuracy: 0.3500\n",
      "Epoch 36/100\n",
      "3/3 [==============================] - 0s 12ms/step - loss: 0.6918 - accuracy: 0.5375 - val_loss: 0.6996 - val_accuracy: 0.3500\n",
      "Epoch 37/100\n",
      "3/3 [==============================] - 0s 10ms/step - loss: 0.6918 - accuracy: 0.5375 - val_loss: 0.6998 - val_accuracy: 0.3500\n",
      "Epoch 38/100\n",
      "3/3 [==============================] - 0s 12ms/step - loss: 0.6918 - accuracy: 0.5375 - val_loss: 0.6999 - val_accuracy: 0.3500\n",
      "Epoch 39/100\n",
      "3/3 [==============================] - 0s 10ms/step - loss: 0.6918 - accuracy: 0.5375 - val_loss: 0.7001 - val_accuracy: 0.3500\n",
      "Epoch 40/100\n",
      "3/3 [==============================] - 0s 10ms/step - loss: 0.6917 - accuracy: 0.5375 - val_loss: 0.7002 - val_accuracy: 0.3500\n",
      "Epoch 41/100\n",
      "3/3 [==============================] - 0s 10ms/step - loss: 0.6917 - accuracy: 0.5375 - val_loss: 0.7003 - val_accuracy: 0.3500\n",
      "Epoch 42/100\n",
      "3/3 [==============================] - 0s 10ms/step - loss: 0.6917 - accuracy: 0.5375 - val_loss: 0.7005 - val_accuracy: 0.3500\n",
      "Epoch 43/100\n",
      "3/3 [==============================] - 0s 10ms/step - loss: 0.6916 - accuracy: 0.5375 - val_loss: 0.7006 - val_accuracy: 0.3500\n",
      "Epoch 44/100\n",
      "3/3 [==============================] - 0s 10ms/step - loss: 0.6917 - accuracy: 0.5375 - val_loss: 0.7008 - val_accuracy: 0.3500\n",
      "Epoch 45/100\n",
      "3/3 [==============================] - 0s 10ms/step - loss: 0.6916 - accuracy: 0.5375 - val_loss: 0.7009 - val_accuracy: 0.3500\n",
      "Epoch 46/100\n",
      "3/3 [==============================] - 0s 11ms/step - loss: 0.6916 - accuracy: 0.5375 - val_loss: 0.7010 - val_accuracy: 0.3500\n",
      "Epoch 47/100\n",
      "3/3 [==============================] - 0s 10ms/step - loss: 0.6916 - accuracy: 0.5375 - val_loss: 0.7011 - val_accuracy: 0.3500\n",
      "Epoch 48/100\n",
      "3/3 [==============================] - 0s 10ms/step - loss: 0.6916 - accuracy: 0.5375 - val_loss: 0.7012 - val_accuracy: 0.3500\n",
      "Epoch 49/100\n",
      "3/3 [==============================] - 0s 11ms/step - loss: 0.6915 - accuracy: 0.5375 - val_loss: 0.7014 - val_accuracy: 0.3500\n",
      "Epoch 50/100\n",
      "3/3 [==============================] - 0s 11ms/step - loss: 0.6915 - accuracy: 0.5375 - val_loss: 0.7015 - val_accuracy: 0.3500\n",
      "Epoch 51/100\n",
      "3/3 [==============================] - 0s 10ms/step - loss: 0.6915 - accuracy: 0.5375 - val_loss: 0.7016 - val_accuracy: 0.3500\n",
      "Epoch 52/100\n",
      "3/3 [==============================] - 0s 10ms/step - loss: 0.6915 - accuracy: 0.5375 - val_loss: 0.7018 - val_accuracy: 0.3500\n",
      "Epoch 53/100\n",
      "3/3 [==============================] - 0s 10ms/step - loss: 0.6914 - accuracy: 0.5375 - val_loss: 0.7019 - val_accuracy: 0.3500\n",
      "Epoch 54/100\n",
      "3/3 [==============================] - 0s 10ms/step - loss: 0.6914 - accuracy: 0.5375 - val_loss: 0.7021 - val_accuracy: 0.3500\n",
      "Epoch 55/100\n",
      "3/3 [==============================] - 0s 10ms/step - loss: 0.6914 - accuracy: 0.5375 - val_loss: 0.7023 - val_accuracy: 0.3500\n",
      "Epoch 56/100\n",
      "3/3 [==============================] - 0s 10ms/step - loss: 0.6914 - accuracy: 0.5375 - val_loss: 0.7025 - val_accuracy: 0.3500\n",
      "Epoch 57/100\n",
      "3/3 [==============================] - 0s 10ms/step - loss: 0.6914 - accuracy: 0.5375 - val_loss: 0.7027 - val_accuracy: 0.3500\n",
      "Epoch 58/100\n",
      "3/3 [==============================] - 0s 10ms/step - loss: 0.6913 - accuracy: 0.5375 - val_loss: 0.7028 - val_accuracy: 0.3500\n",
      "Epoch 59/100\n"
     ]
    },
    {
     "name": "stdout",
     "output_type": "stream",
     "text": [
      "3/3 [==============================] - 0s 11ms/step - loss: 0.6913 - accuracy: 0.5375 - val_loss: 0.7029 - val_accuracy: 0.3500\n",
      "Epoch 60/100\n",
      "3/3 [==============================] - 0s 10ms/step - loss: 0.6913 - accuracy: 0.5375 - val_loss: 0.7030 - val_accuracy: 0.3500\n",
      "Epoch 61/100\n",
      "3/3 [==============================] - 0s 10ms/step - loss: 0.6913 - accuracy: 0.5375 - val_loss: 0.7031 - val_accuracy: 0.3500\n",
      "Epoch 62/100\n",
      "3/3 [==============================] - 0s 10ms/step - loss: 0.6913 - accuracy: 0.5375 - val_loss: 0.7032 - val_accuracy: 0.3500\n",
      "Epoch 63/100\n",
      "3/3 [==============================] - 0s 10ms/step - loss: 0.6913 - accuracy: 0.5375 - val_loss: 0.7032 - val_accuracy: 0.3500\n",
      "Epoch 64/100\n",
      "3/3 [==============================] - 0s 17ms/step - loss: 0.6913 - accuracy: 0.5375 - val_loss: 0.7033 - val_accuracy: 0.3500\n",
      "Epoch 65/100\n",
      "3/3 [==============================] - 0s 10ms/step - loss: 0.6913 - accuracy: 0.5375 - val_loss: 0.7034 - val_accuracy: 0.3500\n",
      "Epoch 66/100\n",
      "3/3 [==============================] - 0s 11ms/step - loss: 0.6913 - accuracy: 0.5375 - val_loss: 0.7034 - val_accuracy: 0.3500\n",
      "Epoch 67/100\n",
      "3/3 [==============================] - 0s 10ms/step - loss: 0.6913 - accuracy: 0.5375 - val_loss: 0.7035 - val_accuracy: 0.3500\n",
      "Epoch 68/100\n",
      "3/3 [==============================] - 0s 10ms/step - loss: 0.6912 - accuracy: 0.5375 - val_loss: 0.7035 - val_accuracy: 0.3500\n",
      "Epoch 69/100\n",
      "3/3 [==============================] - 0s 10ms/step - loss: 0.6912 - accuracy: 0.5375 - val_loss: 0.7035 - val_accuracy: 0.3500\n",
      "Epoch 70/100\n",
      "3/3 [==============================] - 0s 10ms/step - loss: 0.6912 - accuracy: 0.5375 - val_loss: 0.7036 - val_accuracy: 0.3500\n",
      "Epoch 71/100\n",
      "3/3 [==============================] - 0s 10ms/step - loss: 0.6912 - accuracy: 0.5375 - val_loss: 0.7037 - val_accuracy: 0.3500\n",
      "Epoch 72/100\n",
      "3/3 [==============================] - 0s 10ms/step - loss: 0.6912 - accuracy: 0.5375 - val_loss: 0.7038 - val_accuracy: 0.3500\n",
      "Epoch 73/100\n",
      "3/3 [==============================] - 0s 10ms/step - loss: 0.6912 - accuracy: 0.5375 - val_loss: 0.7039 - val_accuracy: 0.3500\n",
      "Epoch 74/100\n",
      "3/3 [==============================] - 0s 10ms/step - loss: 0.6912 - accuracy: 0.5375 - val_loss: 0.7040 - val_accuracy: 0.3500\n",
      "Epoch 75/100\n",
      "3/3 [==============================] - 0s 10ms/step - loss: 0.6912 - accuracy: 0.5375 - val_loss: 0.7041 - val_accuracy: 0.3500\n",
      "Epoch 76/100\n",
      "3/3 [==============================] - 0s 13ms/step - loss: 0.6912 - accuracy: 0.5375 - val_loss: 0.7042 - val_accuracy: 0.3500\n",
      "Epoch 77/100\n",
      "3/3 [==============================] - 0s 10ms/step - loss: 0.6911 - accuracy: 0.5375 - val_loss: 0.7042 - val_accuracy: 0.3500\n",
      "Epoch 78/100\n",
      "3/3 [==============================] - 0s 10ms/step - loss: 0.6911 - accuracy: 0.5375 - val_loss: 0.7043 - val_accuracy: 0.3500\n",
      "Epoch 79/100\n",
      "3/3 [==============================] - 0s 10ms/step - loss: 0.6911 - accuracy: 0.5375 - val_loss: 0.7044 - val_accuracy: 0.3500\n",
      "Epoch 80/100\n",
      "3/3 [==============================] - 0s 10ms/step - loss: 0.6911 - accuracy: 0.5375 - val_loss: 0.7044 - val_accuracy: 0.3500\n",
      "Epoch 81/100\n",
      "3/3 [==============================] - 0s 10ms/step - loss: 0.6911 - accuracy: 0.5375 - val_loss: 0.7045 - val_accuracy: 0.3500\n",
      "Epoch 82/100\n",
      "3/3 [==============================] - 0s 10ms/step - loss: 0.6911 - accuracy: 0.5375 - val_loss: 0.7047 - val_accuracy: 0.3500\n",
      "Epoch 83/100\n",
      "3/3 [==============================] - 0s 10ms/step - loss: 0.6911 - accuracy: 0.5375 - val_loss: 0.7047 - val_accuracy: 0.3500\n",
      "Epoch 84/100\n",
      "3/3 [==============================] - 0s 10ms/step - loss: 0.6911 - accuracy: 0.5375 - val_loss: 0.7048 - val_accuracy: 0.3500\n",
      "Epoch 85/100\n",
      "3/3 [==============================] - 0s 10ms/step - loss: 0.6911 - accuracy: 0.5375 - val_loss: 0.7048 - val_accuracy: 0.3500\n",
      "Epoch 86/100\n",
      "3/3 [==============================] - 0s 10ms/step - loss: 0.6911 - accuracy: 0.5375 - val_loss: 0.7048 - val_accuracy: 0.3500\n",
      "Epoch 87/100\n",
      "3/3 [==============================] - 0s 10ms/step - loss: 0.6911 - accuracy: 0.5375 - val_loss: 0.7048 - val_accuracy: 0.3500\n",
      "Epoch 88/100\n",
      "3/3 [==============================] - 0s 10ms/step - loss: 0.6911 - accuracy: 0.5375 - val_loss: 0.7049 - val_accuracy: 0.3500\n",
      "Epoch 89/100\n",
      "3/3 [==============================] - 0s 10ms/step - loss: 0.6911 - accuracy: 0.5375 - val_loss: 0.7049 - val_accuracy: 0.3500\n",
      "Epoch 90/100\n",
      "3/3 [==============================] - 0s 10ms/step - loss: 0.6911 - accuracy: 0.5375 - val_loss: 0.7049 - val_accuracy: 0.3500\n",
      "Epoch 91/100\n",
      "3/3 [==============================] - 0s 10ms/step - loss: 0.6911 - accuracy: 0.5375 - val_loss: 0.7050 - val_accuracy: 0.3500\n",
      "Epoch 92/100\n",
      "3/3 [==============================] - 0s 10ms/step - loss: 0.6910 - accuracy: 0.5375 - val_loss: 0.7050 - val_accuracy: 0.3500\n",
      "Epoch 93/100\n",
      "3/3 [==============================] - 0s 10ms/step - loss: 0.6911 - accuracy: 0.5375 - val_loss: 0.7049 - val_accuracy: 0.3500\n",
      "Epoch 94/100\n",
      "3/3 [==============================] - 0s 11ms/step - loss: 0.6911 - accuracy: 0.5375 - val_loss: 0.7050 - val_accuracy: 0.3500\n",
      "Epoch 95/100\n",
      "3/3 [==============================] - 0s 11ms/step - loss: 0.6911 - accuracy: 0.5375 - val_loss: 0.7050 - val_accuracy: 0.3500\n",
      "Epoch 96/100\n",
      "3/3 [==============================] - 0s 10ms/step - loss: 0.6910 - accuracy: 0.5375 - val_loss: 0.7051 - val_accuracy: 0.3500\n",
      "Epoch 97/100\n",
      "3/3 [==============================] - 0s 10ms/step - loss: 0.6910 - accuracy: 0.5375 - val_loss: 0.7052 - val_accuracy: 0.3500\n",
      "Epoch 98/100\n",
      "3/3 [==============================] - 0s 10ms/step - loss: 0.6910 - accuracy: 0.5375 - val_loss: 0.7053 - val_accuracy: 0.3500\n",
      "Epoch 99/100\n",
      "3/3 [==============================] - 0s 10ms/step - loss: 0.6910 - accuracy: 0.5375 - val_loss: 0.7054 - val_accuracy: 0.3500\n",
      "Epoch 100/100\n",
      "3/3 [==============================] - 0s 10ms/step - loss: 0.6910 - accuracy: 0.5375 - val_loss: 0.7055 - val_accuracy: 0.3500\n"
     ]
    },
    {
     "data": {
      "text/plain": [
       "<keras.callbacks.History at 0x7fdfdb3beb80>"
      ]
     },
     "execution_count": 79,
     "metadata": {},
     "output_type": "execute_result"
    }
   ],
   "source": [
    "model.fit(X,y,validation_split=0.2,epochs=100)"
   ]
  },
  {
   "cell_type": "code",
   "execution_count": 80,
   "id": "43880569",
   "metadata": {},
   "outputs": [
    {
     "data": {
      "text/plain": [
       "[array([[0., 0.],\n",
       "        [0., 0.]], dtype=float32),\n",
       " array([0., 0.], dtype=float32),\n",
       " array([[0.],\n",
       "        [0.]], dtype=float32),\n",
       " array([0.07748242], dtype=float32)]"
      ]
     },
     "execution_count": 80,
     "metadata": {},
     "output_type": "execute_result"
    }
   ],
   "source": [
    "model.get_weights()"
   ]
  },
  {
   "cell_type": "code",
   "execution_count": 81,
   "id": "5e03e413",
   "metadata": {},
   "outputs": [
    {
     "data": {
      "text/plain": [
       "<AxesSubplot:>"
      ]
     },
     "execution_count": 81,
     "metadata": {},
     "output_type": "execute_result"
    },
    {
     "data": {
      "image/png": "[encoded data removed]",
      "text/plain": [
       "<Figure size 432x288 with 1 Axes>"
      ]
     },
     "metadata": {
      "needs_background": "light"
     },
     "output_type": "display_data"
    }
   ],
   "source": [
    "from mlxtend.plotting import plot_decision_regions\n",
    "plot_decision_regions(X,y.astype('int'), clf=model, legend=2)"
   ]
  },
  {
   "cell_type": "code",
   "execution_count": 82,
   "id": "abd79692",
   "metadata": {},
   "outputs": [
    {
     "name": "stdout",
     "output_type": "stream",
     "text": [
      "Model: \"sequential_7\"\n",
      "_________________________________________________________________\n",
      " Layer (type)                Output Shape              Param #   \n",
      "=================================================================\n",
      " dense_14 (Dense)            (None, 2)                 6         \n",
      "                                                                 \n",
      " dense_15 (Dense)            (None, 1)                 3         \n",
      "                                                                 \n",
      "=================================================================\n",
      "Total params: 9\n",
      "Trainable params: 9\n",
      "Non-trainable params: 0\n",
      "_________________________________________________________________\n"
     ]
    }
   ],
   "source": [
    "model2 = Sequential()\n",
    "\n",
    "model2.add(Dense(2,activation='sigmoid',input_dim=2))\n",
    "model2.add(Dense(1,activation='sigmoid'))\n",
    "\n",
    "model2.summary()"
   ]
  },
  {
   "cell_type": "code",
   "execution_count": 83,
   "id": "7a523109",
   "metadata": {},
   "outputs": [
    {
     "data": {
      "text/plain": [
       "[array([[ 0.3825661 , -0.7629377 ],\n",
       "        [ 0.11152279,  0.63903105]], dtype=float32),\n",
       " array([0., 0.], dtype=float32),\n",
       " array([[-1.3815784],\n",
       "        [-0.9660803]], dtype=float32),\n",
       " array([0.], dtype=float32)]"
      ]
     },
     "execution_count": 83,
     "metadata": {},
     "output_type": "execute_result"
    }
   ],
   "source": [
    "initial_weights = model2.get_weights()\n",
    "initial_weights"
   ]
  },
  {
   "cell_type": "code",
   "execution_count": 84,
   "id": "a48dc5d0",
   "metadata": {},
   "outputs": [],
   "source": [
    "initial_weights[0] = np.zeros(model.get_weights()[0].shape)\n",
    "initial_weights[1] = np.zeros(model.get_weights()[1].shape)\n",
    "initial_weights[2] = np.zeros(model.get_weights()[2].shape)\n",
    "initial_weights[3] = np.zeros(model.get_weights()[3].shape)"
   ]
  },
  {
   "cell_type": "code",
   "execution_count": 85,
   "id": "22af6c53",
   "metadata": {},
   "outputs": [
    {
     "data": {
      "text/plain": [
       "[array([[0., 0.],\n",
       "        [0., 0.]]),\n",
       " array([0., 0.]),\n",
       " array([[0.],\n",
       "        [0.]]),\n",
       " array([0.])]"
      ]
     },
     "execution_count": 85,
     "metadata": {},
     "output_type": "execute_result"
    }
   ],
   "source": [
    "initial_weights"
   ]
  },
  {
   "cell_type": "code",
   "execution_count": 86,
   "id": "e1c9e436",
   "metadata": {},
   "outputs": [],
   "source": [
    "model2.set_weights(initial_weights)"
   ]
  },
  {
   "cell_type": "code",
   "execution_count": 87,
   "id": "dd20196f",
   "metadata": {},
   "outputs": [
    {
     "data": {
      "text/plain": [
       "[array([[0., 0.],\n",
       "        [0., 0.]], dtype=float32),\n",
       " array([0., 0.], dtype=float32),\n",
       " array([[0.],\n",
       "        [0.]], dtype=float32),\n",
       " array([0.], dtype=float32)]"
      ]
     },
     "execution_count": 87,
     "metadata": {},
     "output_type": "execute_result"
    }
   ],
   "source": [
    "model2.get_weights()"
   ]
  },
  {
   "cell_type": "code",
   "execution_count": 88,
   "id": "935ccd52",
   "metadata": {},
   "outputs": [
    {
     "name": "stdout",
     "output_type": "stream",
     "text": [
      "Epoch 1/100\n",
      "3/3 [==============================] - 0s 54ms/step - loss: 0.6931 - accuracy: 0.4625 - val_loss: 0.6937 - val_accuracy: 0.3500\n",
      "Epoch 2/100\n",
      "3/3 [==============================] - 0s 10ms/step - loss: 0.6930 - accuracy: 0.5375 - val_loss: 0.6943 - val_accuracy: 0.3500\n",
      "Epoch 3/100\n",
      "3/3 [==============================] - 0s 10ms/step - loss: 0.6928 - accuracy: 0.5375 - val_loss: 0.6947 - val_accuracy: 0.3500\n",
      "Epoch 4/100\n",
      "3/3 [==============================] - 0s 11ms/step - loss: 0.6927 - accuracy: 0.5375 - val_loss: 0.6951 - val_accuracy: 0.3500\n",
      "Epoch 5/100\n",
      "3/3 [==============================] - 0s 10ms/step - loss: 0.6926 - accuracy: 0.5375 - val_loss: 0.6957 - val_accuracy: 0.3500\n",
      "Epoch 6/100\n",
      "3/3 [==============================] - 0s 10ms/step - loss: 0.6926 - accuracy: 0.5375 - val_loss: 0.6962 - val_accuracy: 0.3500\n",
      "Epoch 7/100\n",
      "3/3 [==============================] - 0s 10ms/step - loss: 0.6924 - accuracy: 0.5375 - val_loss: 0.6964 - val_accuracy: 0.3500\n",
      "Epoch 8/100\n",
      "3/3 [==============================] - 0s 9ms/step - loss: 0.6923 - accuracy: 0.5375 - val_loss: 0.6968 - val_accuracy: 0.3500\n",
      "Epoch 9/100\n",
      "3/3 [==============================] - 0s 9ms/step - loss: 0.6923 - accuracy: 0.5375 - val_loss: 0.6971 - val_accuracy: 0.3500\n",
      "Epoch 10/100\n",
      "3/3 [==============================] - 0s 9ms/step - loss: 0.6921 - accuracy: 0.5375 - val_loss: 0.6975 - val_accuracy: 0.3500\n",
      "Epoch 11/100\n",
      "3/3 [==============================] - 0s 10ms/step - loss: 0.6920 - accuracy: 0.5375 - val_loss: 0.6978 - val_accuracy: 0.3500\n",
      "Epoch 12/100\n",
      "3/3 [==============================] - 0s 9ms/step - loss: 0.6920 - accuracy: 0.5375 - val_loss: 0.6982 - val_accuracy: 0.3500\n",
      "Epoch 13/100\n",
      "3/3 [==============================] - 0s 10ms/step - loss: 0.6919 - accuracy: 0.5375 - val_loss: 0.6986 - val_accuracy: 0.3500\n",
      "Epoch 14/100\n",
      "3/3 [==============================] - 0s 10ms/step - loss: 0.6918 - accuracy: 0.5375 - val_loss: 0.6989 - val_accuracy: 0.3500\n",
      "Epoch 15/100\n",
      "3/3 [==============================] - 0s 11ms/step - loss: 0.6918 - accuracy: 0.5375 - val_loss: 0.6993 - val_accuracy: 0.3500\n",
      "Epoch 16/100\n",
      "3/3 [==============================] - 0s 10ms/step - loss: 0.6916 - accuracy: 0.5375 - val_loss: 0.6996 - val_accuracy: 0.3500\n",
      "Epoch 17/100\n",
      "3/3 [==============================] - 0s 11ms/step - loss: 0.6915 - accuracy: 0.5375 - val_loss: 0.6999 - val_accuracy: 0.3500\n",
      "Epoch 18/100\n",
      "3/3 [==============================] - 0s 11ms/step - loss: 0.6914 - accuracy: 0.5375 - val_loss: 0.7002 - val_accuracy: 0.3500\n",
      "Epoch 19/100\n",
      "3/3 [==============================] - 0s 10ms/step - loss: 0.6913 - accuracy: 0.5375 - val_loss: 0.7005 - val_accuracy: 0.3500\n",
      "Epoch 20/100\n",
      "3/3 [==============================] - 0s 11ms/step - loss: 0.6912 - accuracy: 0.5375 - val_loss: 0.7008 - val_accuracy: 0.3500\n",
      "Epoch 21/100\n",
      "3/3 [==============================] - 0s 10ms/step - loss: 0.6912 - accuracy: 0.5375 - val_loss: 0.7012 - val_accuracy: 0.3500\n",
      "Epoch 22/100\n",
      "3/3 [==============================] - 0s 10ms/step - loss: 0.6910 - accuracy: 0.5375 - val_loss: 0.7015 - val_accuracy: 0.3500\n",
      "Epoch 23/100\n",
      "3/3 [==============================] - 0s 11ms/step - loss: 0.6909 - accuracy: 0.5375 - val_loss: 0.7019 - val_accuracy: 0.3500\n",
      "Epoch 24/100\n",
      "3/3 [==============================] - 0s 11ms/step - loss: 0.6908 - accuracy: 0.5375 - val_loss: 0.7022 - val_accuracy: 0.3500\n",
      "Epoch 25/100\n",
      "3/3 [==============================] - 0s 11ms/step - loss: 0.6907 - accuracy: 0.5375 - val_loss: 0.7026 - val_accuracy: 0.3500\n",
      "Epoch 26/100\n",
      "3/3 [==============================] - 0s 11ms/step - loss: 0.6906 - accuracy: 0.5375 - val_loss: 0.7030 - val_accuracy: 0.3500\n",
      "Epoch 27/100\n",
      "3/3 [==============================] - 0s 10ms/step - loss: 0.6904 - accuracy: 0.5375 - val_loss: 0.7033 - val_accuracy: 0.3500\n",
      "Epoch 28/100\n",
      "3/3 [==============================] - 0s 10ms/step - loss: 0.6904 - accuracy: 0.5375 - val_loss: 0.7038 - val_accuracy: 0.3500\n",
      "Epoch 29/100\n",
      "3/3 [==============================] - 0s 10ms/step - loss: 0.6903 - accuracy: 0.5375 - val_loss: 0.7041 - val_accuracy: 0.3500\n",
      "Epoch 30/100\n",
      "3/3 [==============================] - 0s 11ms/step - loss: 0.6902 - accuracy: 0.5375 - val_loss: 0.7044 - val_accuracy: 0.3500\n",
      "Epoch 31/100\n",
      "3/3 [==============================] - 0s 11ms/step - loss: 0.6900 - accuracy: 0.5375 - val_loss: 0.7046 - val_accuracy: 0.3500\n",
      "Epoch 32/100\n",
      "3/3 [==============================] - 0s 10ms/step - loss: 0.6899 - accuracy: 0.5375 - val_loss: 0.7049 - val_accuracy: 0.3500\n",
      "Epoch 33/100\n",
      "3/3 [==============================] - 0s 10ms/step - loss: 0.6898 - accuracy: 0.5375 - val_loss: 0.7053 - val_accuracy: 0.3500\n",
      "Epoch 34/100\n",
      "3/3 [==============================] - 0s 10ms/step - loss: 0.6897 - accuracy: 0.5375 - val_loss: 0.7057 - val_accuracy: 0.3500\n",
      "Epoch 35/100\n",
      "3/3 [==============================] - 0s 11ms/step - loss: 0.6896 - accuracy: 0.5375 - val_loss: 0.7061 - val_accuracy: 0.3500\n",
      "Epoch 36/100\n",
      "3/3 [==============================] - 0s 11ms/step - loss: 0.6894 - accuracy: 0.5375 - val_loss: 0.7064 - val_accuracy: 0.3500\n",
      "Epoch 37/100\n",
      "3/3 [==============================] - 0s 11ms/step - loss: 0.6893 - accuracy: 0.5375 - val_loss: 0.7067 - val_accuracy: 0.3500\n",
      "Epoch 38/100\n",
      "3/3 [==============================] - 0s 10ms/step - loss: 0.6892 - accuracy: 0.5375 - val_loss: 0.7070 - val_accuracy: 0.3500\n",
      "Epoch 39/100\n",
      "3/3 [==============================] - 0s 10ms/step - loss: 0.6891 - accuracy: 0.5375 - val_loss: 0.7074 - val_accuracy: 0.3500\n",
      "Epoch 40/100\n",
      "3/3 [==============================] - 0s 10ms/step - loss: 0.6889 - accuracy: 0.5375 - val_loss: 0.7077 - val_accuracy: 0.3500\n",
      "Epoch 41/100\n",
      "3/3 [==============================] - 0s 10ms/step - loss: 0.6888 - accuracy: 0.5375 - val_loss: 0.7079 - val_accuracy: 0.3500\n",
      "Epoch 42/100\n",
      "3/3 [==============================] - 0s 11ms/step - loss: 0.6887 - accuracy: 0.5375 - val_loss: 0.7083 - val_accuracy: 0.3500\n",
      "Epoch 43/100\n",
      "3/3 [==============================] - 0s 10ms/step - loss: 0.6886 - accuracy: 0.5375 - val_loss: 0.7086 - val_accuracy: 0.3500\n",
      "Epoch 44/100\n",
      "3/3 [==============================] - 0s 10ms/step - loss: 0.6885 - accuracy: 0.5375 - val_loss: 0.7089 - val_accuracy: 0.3500\n",
      "Epoch 45/100\n",
      "3/3 [==============================] - 0s 10ms/step - loss: 0.6883 - accuracy: 0.5375 - val_loss: 0.7090 - val_accuracy: 0.3500\n",
      "Epoch 46/100\n",
      "3/3 [==============================] - 0s 10ms/step - loss: 0.6882 - accuracy: 0.5375 - val_loss: 0.7093 - val_accuracy: 0.3500\n",
      "Epoch 47/100\n",
      "3/3 [==============================] - 0s 11ms/step - loss: 0.6881 - accuracy: 0.5375 - val_loss: 0.7095 - val_accuracy: 0.3500\n",
      "Epoch 48/100\n",
      "3/3 [==============================] - 0s 10ms/step - loss: 0.6879 - accuracy: 0.5375 - val_loss: 0.7098 - val_accuracy: 0.3500\n",
      "Epoch 49/100\n",
      "3/3 [==============================] - 0s 11ms/step - loss: 0.6878 - accuracy: 0.5375 - val_loss: 0.7100 - val_accuracy: 0.3500\n",
      "Epoch 50/100\n",
      "3/3 [==============================] - 0s 10ms/step - loss: 0.6876 - accuracy: 0.5375 - val_loss: 0.7102 - val_accuracy: 0.3500\n",
      "Epoch 51/100\n",
      "3/3 [==============================] - 0s 10ms/step - loss: 0.6875 - accuracy: 0.5375 - val_loss: 0.7104 - val_accuracy: 0.3500\n",
      "Epoch 52/100\n",
      "3/3 [==============================] - 0s 10ms/step - loss: 0.6874 - accuracy: 0.5375 - val_loss: 0.7107 - val_accuracy: 0.3500\n",
      "Epoch 53/100\n",
      "3/3 [==============================] - 0s 10ms/step - loss: 0.6872 - accuracy: 0.5375 - val_loss: 0.7108 - val_accuracy: 0.3500\n",
      "Epoch 54/100\n",
      "3/3 [==============================] - 0s 11ms/step - loss: 0.6871 - accuracy: 0.5375 - val_loss: 0.7110 - val_accuracy: 0.3500\n",
      "Epoch 55/100\n",
      "3/3 [==============================] - 0s 12ms/step - loss: 0.6870 - accuracy: 0.5375 - val_loss: 0.7113 - val_accuracy: 0.3500\n",
      "Epoch 56/100\n",
      "3/3 [==============================] - 0s 10ms/step - loss: 0.6868 - accuracy: 0.5375 - val_loss: 0.7116 - val_accuracy: 0.3500\n",
      "Epoch 57/100\n",
      "3/3 [==============================] - 0s 15ms/step - loss: 0.6866 - accuracy: 0.5375 - val_loss: 0.7118 - val_accuracy: 0.3500\n",
      "Epoch 58/100\n",
      "3/3 [==============================] - 0s 11ms/step - loss: 0.6865 - accuracy: 0.5375 - val_loss: 0.7121 - val_accuracy: 0.3500\n",
      "Epoch 59/100\n"
     ]
    },
    {
     "name": "stdout",
     "output_type": "stream",
     "text": [
      "3/3 [==============================] - 0s 10ms/step - loss: 0.6864 - accuracy: 0.5375 - val_loss: 0.7122 - val_accuracy: 0.3500\n",
      "Epoch 60/100\n",
      "3/3 [==============================] - 0s 11ms/step - loss: 0.6862 - accuracy: 0.5375 - val_loss: 0.7123 - val_accuracy: 0.3500\n",
      "Epoch 61/100\n",
      "3/3 [==============================] - 0s 10ms/step - loss: 0.6861 - accuracy: 0.5375 - val_loss: 0.7124 - val_accuracy: 0.3500\n",
      "Epoch 62/100\n",
      "3/3 [==============================] - 0s 11ms/step - loss: 0.6859 - accuracy: 0.5375 - val_loss: 0.7124 - val_accuracy: 0.3500\n",
      "Epoch 63/100\n",
      "3/3 [==============================] - 0s 10ms/step - loss: 0.6858 - accuracy: 0.5375 - val_loss: 0.7125 - val_accuracy: 0.3500\n",
      "Epoch 64/100\n",
      "3/3 [==============================] - 0s 11ms/step - loss: 0.6856 - accuracy: 0.5375 - val_loss: 0.7126 - val_accuracy: 0.3500\n",
      "Epoch 65/100\n",
      "3/3 [==============================] - 0s 10ms/step - loss: 0.6854 - accuracy: 0.5375 - val_loss: 0.7126 - val_accuracy: 0.3500\n",
      "Epoch 66/100\n",
      "3/3 [==============================] - 0s 10ms/step - loss: 0.6853 - accuracy: 0.5375 - val_loss: 0.7126 - val_accuracy: 0.3500\n",
      "Epoch 67/100\n",
      "3/3 [==============================] - 0s 11ms/step - loss: 0.6851 - accuracy: 0.5375 - val_loss: 0.7125 - val_accuracy: 0.3500\n",
      "Epoch 68/100\n",
      "3/3 [==============================] - 0s 10ms/step - loss: 0.6850 - accuracy: 0.5375 - val_loss: 0.7125 - val_accuracy: 0.3500\n",
      "Epoch 69/100\n",
      "3/3 [==============================] - 0s 11ms/step - loss: 0.6849 - accuracy: 0.5375 - val_loss: 0.7127 - val_accuracy: 0.3500\n",
      "Epoch 70/100\n",
      "3/3 [==============================] - 0s 10ms/step - loss: 0.6846 - accuracy: 0.5375 - val_loss: 0.7128 - val_accuracy: 0.3500\n",
      "Epoch 71/100\n",
      "3/3 [==============================] - 0s 10ms/step - loss: 0.6845 - accuracy: 0.5375 - val_loss: 0.7129 - val_accuracy: 0.3500\n",
      "Epoch 72/100\n",
      "3/3 [==============================] - 0s 10ms/step - loss: 0.6843 - accuracy: 0.5375 - val_loss: 0.7130 - val_accuracy: 0.3500\n",
      "Epoch 73/100\n",
      "3/3 [==============================] - 0s 10ms/step - loss: 0.6841 - accuracy: 0.5375 - val_loss: 0.7131 - val_accuracy: 0.3500\n",
      "Epoch 74/100\n",
      "3/3 [==============================] - 0s 10ms/step - loss: 0.6839 - accuracy: 0.5375 - val_loss: 0.7131 - val_accuracy: 0.3500\n",
      "Epoch 75/100\n",
      "3/3 [==============================] - 0s 10ms/step - loss: 0.6837 - accuracy: 0.5375 - val_loss: 0.7131 - val_accuracy: 0.3500\n",
      "Epoch 76/100\n",
      "3/3 [==============================] - 0s 10ms/step - loss: 0.6836 - accuracy: 0.5375 - val_loss: 0.7132 - val_accuracy: 0.3500\n",
      "Epoch 77/100\n",
      "3/3 [==============================] - 0s 10ms/step - loss: 0.6834 - accuracy: 0.5375 - val_loss: 0.7132 - val_accuracy: 0.3500\n",
      "Epoch 78/100\n",
      "3/3 [==============================] - 0s 11ms/step - loss: 0.6832 - accuracy: 0.5375 - val_loss: 0.7133 - val_accuracy: 0.3500\n",
      "Epoch 79/100\n",
      "3/3 [==============================] - 0s 11ms/step - loss: 0.6830 - accuracy: 0.5375 - val_loss: 0.7134 - val_accuracy: 0.3500\n",
      "Epoch 80/100\n",
      "3/3 [==============================] - 0s 11ms/step - loss: 0.6828 - accuracy: 0.5375 - val_loss: 0.7135 - val_accuracy: 0.3500\n",
      "Epoch 81/100\n",
      "3/3 [==============================] - 0s 10ms/step - loss: 0.6826 - accuracy: 0.5375 - val_loss: 0.7135 - val_accuracy: 0.3500\n",
      "Epoch 82/100\n",
      "3/3 [==============================] - 0s 11ms/step - loss: 0.6824 - accuracy: 0.5375 - val_loss: 0.7135 - val_accuracy: 0.3500\n",
      "Epoch 83/100\n",
      "3/3 [==============================] - 0s 10ms/step - loss: 0.6822 - accuracy: 0.5375 - val_loss: 0.7134 - val_accuracy: 0.3500\n",
      "Epoch 84/100\n",
      "3/3 [==============================] - 0s 10ms/step - loss: 0.6820 - accuracy: 0.5375 - val_loss: 0.7134 - val_accuracy: 0.3500\n",
      "Epoch 85/100\n",
      "3/3 [==============================] - 0s 11ms/step - loss: 0.6818 - accuracy: 0.5375 - val_loss: 0.7133 - val_accuracy: 0.3500\n",
      "Epoch 86/100\n",
      "3/3 [==============================] - 0s 10ms/step - loss: 0.6816 - accuracy: 0.5375 - val_loss: 0.7132 - val_accuracy: 0.3500\n",
      "Epoch 87/100\n",
      "3/3 [==============================] - 0s 10ms/step - loss: 0.6813 - accuracy: 0.5375 - val_loss: 0.7132 - val_accuracy: 0.3500\n",
      "Epoch 88/100\n",
      "3/3 [==============================] - 0s 10ms/step - loss: 0.6812 - accuracy: 0.5375 - val_loss: 0.7132 - val_accuracy: 0.3500\n",
      "Epoch 89/100\n",
      "3/3 [==============================] - 0s 11ms/step - loss: 0.6809 - accuracy: 0.5375 - val_loss: 0.7132 - val_accuracy: 0.3500\n",
      "Epoch 90/100\n",
      "3/3 [==============================] - 0s 10ms/step - loss: 0.6807 - accuracy: 0.5375 - val_loss: 0.7132 - val_accuracy: 0.3500\n",
      "Epoch 91/100\n",
      "3/3 [==============================] - 0s 10ms/step - loss: 0.6804 - accuracy: 0.5375 - val_loss: 0.7131 - val_accuracy: 0.3500\n",
      "Epoch 92/100\n",
      "3/3 [==============================] - 0s 10ms/step - loss: 0.6802 - accuracy: 0.5375 - val_loss: 0.7132 - val_accuracy: 0.3500\n",
      "Epoch 93/100\n",
      "3/3 [==============================] - 0s 10ms/step - loss: 0.6800 - accuracy: 0.5375 - val_loss: 0.7132 - val_accuracy: 0.3500\n",
      "Epoch 94/100\n",
      "3/3 [==============================] - 0s 10ms/step - loss: 0.6797 - accuracy: 0.5375 - val_loss: 0.7132 - val_accuracy: 0.3500\n",
      "Epoch 95/100\n",
      "3/3 [==============================] - 0s 10ms/step - loss: 0.6795 - accuracy: 0.5375 - val_loss: 0.7131 - val_accuracy: 0.3500\n",
      "Epoch 96/100\n",
      "3/3 [==============================] - 0s 10ms/step - loss: 0.6793 - accuracy: 0.5375 - val_loss: 0.7131 - val_accuracy: 0.3500\n",
      "Epoch 97/100\n",
      "3/3 [==============================] - 0s 10ms/step - loss: 0.6791 - accuracy: 0.5375 - val_loss: 0.7133 - val_accuracy: 0.3500\n",
      "Epoch 98/100\n",
      "3/3 [==============================] - 0s 10ms/step - loss: 0.6788 - accuracy: 0.5375 - val_loss: 0.7132 - val_accuracy: 0.3500\n",
      "Epoch 99/100\n",
      "3/3 [==============================] - 0s 12ms/step - loss: 0.6785 - accuracy: 0.5375 - val_loss: 0.7132 - val_accuracy: 0.3500\n",
      "Epoch 100/100\n",
      "3/3 [==============================] - 0s 10ms/step - loss: 0.6783 - accuracy: 0.5375 - val_loss: 0.7131 - val_accuracy: 0.3500\n"
     ]
    },
    {
     "data": {
      "text/plain": [
       "<keras.callbacks.History at 0x7fdfdb151d60>"
      ]
     },
     "execution_count": 88,
     "metadata": {},
     "output_type": "execute_result"
    }
   ],
   "source": [
    "model2.compile(loss = \"binary_crossentropy\",optimizer='adam', metrics=['accuracy'])\n",
    "model2.fit(X,y,validation_split=0.2,epochs=100)"
   ]
  },
  {
   "cell_type": "code",
   "execution_count": 90,
   "id": "60046ad7",
   "metadata": {},
   "outputs": [
    {
     "data": {
      "text/plain": [
       "<AxesSubplot:>"
      ]
     },
     "execution_count": 90,
     "metadata": {},
     "output_type": "execute_result"
    },
    {
     "data": {
      "image/png": "[encoded data removed]",
      "text/plain": [
       "<Figure size 432x288 with 1 Axes>"
      ]
     },
     "metadata": {
      "needs_background": "light"
     },
     "output_type": "display_data"
    }
   ],
   "source": [
    "from mlxtend.plotting import plot_decision_regions\n",
    "plot_decision_regions(X,y.astype('int'), clf=model2, legend=2)"
   ]
  },
  {
   "cell_type": "code",
   "execution_count": 92,
   "id": "cd5c079b",
   "metadata": {},
   "outputs": [
    {
     "data": {
      "text/plain": [
       "[array([[ 0.4170844,  0.4170844],\n",
       "        [-0.4441925, -0.4441925]], dtype=float32),\n",
       " array([0.01456575, 0.01456575], dtype=float32),\n",
       " array([[0.15988985],\n",
       "        [0.15988985]], dtype=float32),\n",
       " array([0.03670502], dtype=float32)]"
      ]
     },
     "execution_count": 92,
     "metadata": {},
     "output_type": "execute_result"
    }
   ],
   "source": [
    "model2.get_weights()"
   ]
  },
  {
   "cell_type": "code",
   "execution_count": null,
   "id": "899491c9",
   "metadata": {},
   "outputs": [],
   "source": []
  }
 ],
 "metadata": {
  "kernelspec": {
   "display_name": "Python 3 (ipykernel)",
   "language": "python",
   "name": "python3"
  },
  "language_info": {
   "codemirror_mode": {
    "name": "ipython",
    "version": 3
   },
   "file_extension": ".py",
   "mimetype": "text/x-python",
   "name": "python",
   "nbconvert_exporter": "python",
   "pygments_lexer": "ipython3",
   "version": "3.9.7"
  }
 },
 "nbformat": 4,
 "nbformat_minor": 5
}
