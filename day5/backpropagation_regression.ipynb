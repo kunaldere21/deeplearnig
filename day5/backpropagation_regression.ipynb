{
 "cells": [
  {
   "cell_type": "code",
   "execution_count": 14,
   "id": "4dfc82ea",
   "metadata": {},
   "outputs": [],
   "source": [
    "import numpy as np\n",
    "import pandas as pd"
   ]
  },
  {
   "cell_type": "code",
   "execution_count": 15,
   "id": "f3d16fba",
   "metadata": {},
   "outputs": [],
   "source": [
    "df = pd.DataFrame([[8,8,4],[7,9,5],[6,10,6],[5,12,7]], columns=['cgpa', 'profile_score', 'lpa'])"
   ]
  },
  {
   "cell_type": "code",
   "execution_count": 16,
   "id": "5d5a10be",
   "metadata": {},
   "outputs": [
    {
     "data": {
      "text/html": [
       "<div>\n",
       "<style scoped>\n",
       "    .dataframe tbody tr th:only-of-type {\n",
       "        vertical-align: middle;\n",
       "    }\n",
       "\n",
       "    .dataframe tbody tr th {\n",
       "        vertical-align: top;\n",
       "    }\n",
       "\n",
       "    .dataframe thead th {\n",
       "        text-align: right;\n",
       "    }\n",
       "</style>\n",
       "<table border=\"1\" class=\"dataframe\">\n",
       "  <thead>\n",
       "    <tr style=\"text-align: right;\">\n",
       "      <th></th>\n",
       "      <th>cgpa</th>\n",
       "      <th>profile_score</th>\n",
       "      <th>lpa</th>\n",
       "    </tr>\n",
       "  </thead>\n",
       "  <tbody>\n",
       "    <tr>\n",
       "      <th>0</th>\n",
       "      <td>8</td>\n",
       "      <td>8</td>\n",
       "      <td>4</td>\n",
       "    </tr>\n",
       "    <tr>\n",
       "      <th>1</th>\n",
       "      <td>7</td>\n",
       "      <td>9</td>\n",
       "      <td>5</td>\n",
       "    </tr>\n",
       "    <tr>\n",
       "      <th>2</th>\n",
       "      <td>6</td>\n",
       "      <td>10</td>\n",
       "      <td>6</td>\n",
       "    </tr>\n",
       "    <tr>\n",
       "      <th>3</th>\n",
       "      <td>5</td>\n",
       "      <td>12</td>\n",
       "      <td>7</td>\n",
       "    </tr>\n",
       "  </tbody>\n",
       "</table>\n",
       "</div>"
      ],
      "text/plain": [
       "   cgpa  profile_score  lpa\n",
       "0     8              8    4\n",
       "1     7              9    5\n",
       "2     6             10    6\n",
       "3     5             12    7"
      ]
     },
     "execution_count": 16,
     "metadata": {},
     "output_type": "execute_result"
    }
   ],
   "source": [
    "df"
   ]
  },
  {
   "cell_type": "code",
   "execution_count": 29,
   "id": "b865483f",
   "metadata": {},
   "outputs": [],
   "source": [
    "import tensorflow as tf\n",
    "from tensorflow import keras \n",
    "from keras.layers import Dense\n",
    "from keras import Sequential"
   ]
  },
  {
   "cell_type": "code",
   "execution_count": 30,
   "id": "bb10d753",
   "metadata": {},
   "outputs": [],
   "source": [
    "model = Sequential()\n",
    "model.add(Dense(2,activation='linear',input_dim=2))\n",
    "model.add(Dense(1,activation='linear'))"
   ]
  },
  {
   "cell_type": "code",
   "execution_count": 31,
   "id": "8671d34e",
   "metadata": {},
   "outputs": [
    {
     "data": {
      "text/plain": [
       "[array([[-1.1882619, -1.2180009],\n",
       "        [-1.146453 , -0.474396 ]], dtype=float32),\n",
       " array([0., 0.], dtype=float32),\n",
       " array([[-0.6302751],\n",
       "        [ 0.6470965]], dtype=float32),\n",
       " array([0.], dtype=float32)]"
      ]
     },
     "execution_count": 31,
     "metadata": {},
     "output_type": "execute_result"
    }
   ],
   "source": [
    "model.get_weights()"
   ]
  },
  {
   "cell_type": "code",
   "execution_count": 32,
   "id": "63b8f191",
   "metadata": {},
   "outputs": [],
   "source": [
    "new_weights = [np.array([[0.1,0.1],[0.1,0.1]], dtype=np.float32),\n",
    "               np.array([0., 0.], dtype=np.float32),\n",
    "               np.array([[ 0.1],[0.1]], dtype=np.float32),\n",
    "               np.array([0.], dtype=np.float32)]"
   ]
  },
  {
   "cell_type": "code",
   "execution_count": 33,
   "id": "22c1392b",
   "metadata": {},
   "outputs": [],
   "source": [
    "set_weights = model.set_weights(new_weights)"
   ]
  },
  {
   "cell_type": "code",
   "execution_count": 34,
   "id": "4ba48744",
   "metadata": {},
   "outputs": [
    {
     "data": {
      "text/plain": [
       "[array([[0.1, 0.1],\n",
       "        [0.1, 0.1]], dtype=float32),\n",
       " array([0., 0.], dtype=float32),\n",
       " array([[0.1],\n",
       "        [0.1]], dtype=float32),\n",
       " array([0.], dtype=float32)]"
      ]
     },
     "execution_count": 34,
     "metadata": {},
     "output_type": "execute_result"
    }
   ],
   "source": [
    "model.get_weights()"
   ]
  },
  {
   "cell_type": "code",
   "execution_count": 35,
   "id": "1b140ed7",
   "metadata": {},
   "outputs": [],
   "source": [
    "optimizer = keras.optimizers.SGD(learning_rate=0.001)\n",
    "model.compile(loss=\"mean_squared_error\",optimizer=optimizer)"
   ]
  },
  {
   "cell_type": "code",
   "execution_count": 36,
   "id": "b3ded00f",
   "metadata": {},
   "outputs": [
    {
     "name": "stdout",
     "output_type": "stream",
     "text": [
      "Epoch 1/75\n",
      "1/1 [==============================] - 0s 188ms/step - loss: 28.0157\n",
      "Epoch 2/75\n",
      "1/1 [==============================] - 0s 3ms/step - loss: 26.9935\n",
      "Epoch 3/75\n",
      "1/1 [==============================] - 0s 3ms/step - loss: 25.7924\n",
      "Epoch 4/75\n",
      "1/1 [==============================] - 0s 3ms/step - loss: 24.3902\n",
      "Epoch 5/75\n",
      "1/1 [==============================] - 0s 3ms/step - loss: 22.7715\n",
      "Epoch 6/75\n",
      "1/1 [==============================] - 0s 3ms/step - loss: 20.9333\n",
      "Epoch 7/75\n",
      "1/1 [==============================] - 0s 3ms/step - loss: 18.8904\n",
      "Epoch 8/75\n",
      "1/1 [==============================] - 0s 3ms/step - loss: 16.6808\n",
      "Epoch 9/75\n",
      "1/1 [==============================] - 0s 3ms/step - loss: 14.3678\n",
      "Epoch 10/75\n",
      "1/1 [==============================] - 0s 3ms/step - loss: 12.0380\n",
      "Epoch 11/75\n",
      "1/1 [==============================] - 0s 3ms/step - loss: 9.7923\n",
      "Epoch 12/75\n",
      "1/1 [==============================] - 0s 3ms/step - loss: 7.7305\n",
      "Epoch 13/75\n",
      "1/1 [==============================] - 0s 3ms/step - loss: 5.9343\n",
      "Epoch 14/75\n",
      "1/1 [==============================] - 0s 3ms/step - loss: 4.4525\n",
      "Epoch 15/75\n",
      "1/1 [==============================] - 0s 3ms/step - loss: 3.2954\n",
      "Epoch 16/75\n",
      "1/1 [==============================] - 0s 3ms/step - loss: 2.4383\n",
      "Epoch 17/75\n",
      "1/1 [==============================] - 0s 3ms/step - loss: 1.8340\n",
      "Epoch 18/75\n",
      "1/1 [==============================] - 0s 3ms/step - loss: 1.4263\n",
      "Epoch 19/75\n",
      "1/1 [==============================] - 0s 3ms/step - loss: 1.1613\n",
      "Epoch 20/75\n",
      "1/1 [==============================] - 0s 3ms/step - loss: 0.9941\n",
      "Epoch 21/75\n",
      "1/1 [==============================] - 0s 3ms/step - loss: 0.8909\n",
      "Epoch 22/75\n",
      "1/1 [==============================] - 0s 3ms/step - loss: 0.8280\n",
      "Epoch 23/75\n",
      "1/1 [==============================] - 0s 3ms/step - loss: 0.7896\n",
      "Epoch 24/75\n",
      "1/1 [==============================] - 0s 3ms/step - loss: 0.7659\n",
      "Epoch 25/75\n",
      "1/1 [==============================] - 0s 3ms/step - loss: 0.7507\n",
      "Epoch 26/75\n",
      "1/1 [==============================] - 0s 3ms/step - loss: 0.7404\n",
      "Epoch 27/75\n",
      "1/1 [==============================] - 0s 2ms/step - loss: 0.7330\n",
      "Epoch 28/75\n",
      "1/1 [==============================] - 0s 3ms/step - loss: 0.7272\n",
      "Epoch 29/75\n",
      "1/1 [==============================] - 0s 3ms/step - loss: 0.7222\n",
      "Epoch 30/75\n",
      "1/1 [==============================] - 0s 3ms/step - loss: 0.7178\n",
      "Epoch 31/75\n",
      "1/1 [==============================] - 0s 14ms/step - loss: 0.7137\n",
      "Epoch 32/75\n",
      "1/1 [==============================] - 0s 3ms/step - loss: 0.7098\n",
      "Epoch 33/75\n",
      "1/1 [==============================] - 0s 5ms/step - loss: 0.7060\n",
      "Epoch 34/75\n",
      "1/1 [==============================] - 0s 3ms/step - loss: 0.7022\n",
      "Epoch 35/75\n",
      "1/1 [==============================] - 0s 7ms/step - loss: 0.6985\n",
      "Epoch 36/75\n",
      "1/1 [==============================] - 0s 3ms/step - loss: 0.6948\n",
      "Epoch 37/75\n",
      "1/1 [==============================] - 0s 2ms/step - loss: 0.6912\n",
      "Epoch 38/75\n",
      "1/1 [==============================] - 0s 2ms/step - loss: 0.6875\n",
      "Epoch 39/75\n",
      "1/1 [==============================] - 0s 2ms/step - loss: 0.6839\n",
      "Epoch 40/75\n",
      "1/1 [==============================] - 0s 2ms/step - loss: 0.6804\n",
      "Epoch 41/75\n",
      "1/1 [==============================] - 0s 3ms/step - loss: 0.6768\n",
      "Epoch 42/75\n",
      "1/1 [==============================] - 0s 3ms/step - loss: 0.6732\n",
      "Epoch 43/75\n",
      "1/1 [==============================] - 0s 3ms/step - loss: 0.6697\n",
      "Epoch 44/75\n",
      "1/1 [==============================] - 0s 3ms/step - loss: 0.6662\n",
      "Epoch 45/75\n",
      "1/1 [==============================] - 0s 2ms/step - loss: 0.6627\n",
      "Epoch 46/75\n",
      "1/1 [==============================] - 0s 2ms/step - loss: 0.6592\n",
      "Epoch 47/75\n",
      "1/1 [==============================] - 0s 2ms/step - loss: 0.6558\n",
      "Epoch 48/75\n",
      "1/1 [==============================] - 0s 2ms/step - loss: 0.6523\n",
      "Epoch 49/75\n",
      "1/1 [==============================] - 0s 2ms/step - loss: 0.6489\n",
      "Epoch 50/75\n",
      "1/1 [==============================] - 0s 2ms/step - loss: 0.6455\n",
      "Epoch 51/75\n",
      "1/1 [==============================] - 0s 2ms/step - loss: 0.6421\n",
      "Epoch 52/75\n",
      "1/1 [==============================] - 0s 2ms/step - loss: 0.6388\n",
      "Epoch 53/75\n",
      "1/1 [==============================] - 0s 2ms/step - loss: 0.6354\n",
      "Epoch 54/75\n",
      "1/1 [==============================] - 0s 2ms/step - loss: 0.6321\n",
      "Epoch 55/75\n",
      "1/1 [==============================] - 0s 3ms/step - loss: 0.6288\n",
      "Epoch 56/75\n",
      "1/1 [==============================] - 0s 3ms/step - loss: 0.6255\n",
      "Epoch 57/75\n",
      "1/1 [==============================] - 0s 3ms/step - loss: 0.6222\n",
      "Epoch 58/75\n",
      "1/1 [==============================] - 0s 3ms/step - loss: 0.6189\n",
      "Epoch 59/75\n",
      "1/1 [==============================] - 0s 4ms/step - loss: 0.6157\n",
      "Epoch 60/75\n",
      "1/1 [==============================] - 0s 4ms/step - loss: 0.6125\n",
      "Epoch 61/75\n",
      "1/1 [==============================] - 0s 3ms/step - loss: 0.6092\n",
      "Epoch 62/75\n",
      "1/1 [==============================] - 0s 3ms/step - loss: 0.6060\n",
      "Epoch 63/75\n",
      "1/1 [==============================] - 0s 2ms/step - loss: 0.6029\n",
      "Epoch 64/75\n",
      "1/1 [==============================] - 0s 2ms/step - loss: 0.5997\n",
      "Epoch 65/75\n",
      "1/1 [==============================] - 0s 3ms/step - loss: 0.5965\n",
      "Epoch 66/75\n",
      "1/1 [==============================] - 0s 3ms/step - loss: 0.5934\n",
      "Epoch 67/75\n",
      "1/1 [==============================] - 0s 3ms/step - loss: 0.5903\n",
      "Epoch 68/75\n",
      "1/1 [==============================] - 0s 3ms/step - loss: 0.5872\n",
      "Epoch 69/75\n",
      "1/1 [==============================] - 0s 3ms/step - loss: 0.5841\n",
      "Epoch 70/75\n",
      "1/1 [==============================] - 0s 2ms/step - loss: 0.5810\n",
      "Epoch 71/75\n",
      "1/1 [==============================] - 0s 4ms/step - loss: 0.5780\n",
      "Epoch 72/75\n",
      "1/1 [==============================] - 0s 2ms/step - loss: 0.5749\n",
      "Epoch 73/75\n",
      "1/1 [==============================] - 0s 2ms/step - loss: 0.5719\n",
      "Epoch 74/75\n",
      "1/1 [==============================] - 0s 3ms/step - loss: 0.5689\n",
      "Epoch 75/75\n",
      "1/1 [==============================] - 0s 3ms/step - loss: 0.5659\n"
     ]
    },
    {
     "data": {
      "text/plain": [
       "<keras.callbacks.History at 0x7f186c115d00>"
      ]
     },
     "execution_count": 36,
     "metadata": {},
     "output_type": "execute_result"
    }
   ],
   "source": [
    "model.fit(df.iloc[:,:-1].values,df['lpa'].values,epochs =75)"
   ]
  },
  {
   "cell_type": "code",
   "execution_count": 37,
   "id": "e4cb4114",
   "metadata": {},
   "outputs": [
    {
     "data": {
      "text/plain": [
       "[array([[0.21416374, 0.21416374],\n",
       "        [0.43670005, 0.43670005]], dtype=float32),\n",
       " array([0.02675008, 0.02675008], dtype=float32),\n",
       " array([[0.47776118],\n",
       "        [0.47776118]], dtype=float32),\n",
       " array([0.11748473], dtype=float32)]"
      ]
     },
     "execution_count": 37,
     "metadata": {},
     "output_type": "execute_result"
    }
   ],
   "source": [
    "model.get_weights()"
   ]
  },
  {
   "cell_type": "markdown",
   "id": "1a6f1459",
   "metadata": {},
   "source": [
    "# classification problem"
   ]
  },
  {
   "cell_type": "code",
   "execution_count": 39,
   "id": "59271a43",
   "metadata": {},
   "outputs": [],
   "source": [
    "df = pd.DataFrame([[8,8,1],[7,9,1],[6,10,0],[5,12,0]], columns=['cgpa', 'profile_score', 'lpa'])"
   ]
  },
  {
   "cell_type": "code",
   "execution_count": 40,
   "id": "59933c1c",
   "metadata": {},
   "outputs": [
    {
     "data": {
      "text/html": [
       "<div>\n",
       "<style scoped>\n",
       "    .dataframe tbody tr th:only-of-type {\n",
       "        vertical-align: middle;\n",
       "    }\n",
       "\n",
       "    .dataframe tbody tr th {\n",
       "        vertical-align: top;\n",
       "    }\n",
       "\n",
       "    .dataframe thead th {\n",
       "        text-align: right;\n",
       "    }\n",
       "</style>\n",
       "<table border=\"1\" class=\"dataframe\">\n",
       "  <thead>\n",
       "    <tr style=\"text-align: right;\">\n",
       "      <th></th>\n",
       "      <th>cgpa</th>\n",
       "      <th>profile_score</th>\n",
       "      <th>lpa</th>\n",
       "    </tr>\n",
       "  </thead>\n",
       "  <tbody>\n",
       "    <tr>\n",
       "      <th>0</th>\n",
       "      <td>8</td>\n",
       "      <td>8</td>\n",
       "      <td>1</td>\n",
       "    </tr>\n",
       "    <tr>\n",
       "      <th>1</th>\n",
       "      <td>7</td>\n",
       "      <td>9</td>\n",
       "      <td>1</td>\n",
       "    </tr>\n",
       "    <tr>\n",
       "      <th>2</th>\n",
       "      <td>6</td>\n",
       "      <td>10</td>\n",
       "      <td>0</td>\n",
       "    </tr>\n",
       "    <tr>\n",
       "      <th>3</th>\n",
       "      <td>5</td>\n",
       "      <td>12</td>\n",
       "      <td>0</td>\n",
       "    </tr>\n",
       "  </tbody>\n",
       "</table>\n",
       "</div>"
      ],
      "text/plain": [
       "   cgpa  profile_score  lpa\n",
       "0     8              8    1\n",
       "1     7              9    1\n",
       "2     6             10    0\n",
       "3     5             12    0"
      ]
     },
     "execution_count": 40,
     "metadata": {},
     "output_type": "execute_result"
    }
   ],
   "source": [
    "df"
   ]
  },
  {
   "cell_type": "code",
   "execution_count": 43,
   "id": "2db2619b",
   "metadata": {},
   "outputs": [],
   "source": [
    "model = Sequential()\n",
    "model.add(Dense(2,activation='sigmoid',input_dim=2))\n",
    "model.add(Dense(1,activation='sigmoid'))"
   ]
  },
  {
   "cell_type": "code",
   "execution_count": 44,
   "id": "181d8ae6",
   "metadata": {},
   "outputs": [],
   "source": [
    "new_weights = [np.array([[0.1,0.1],[0.1,0.1]], dtype=np.float32),\n",
    "               np.array([0., 0.], dtype=np.float32),\n",
    "               np.array([[ 0.1],[0.1]], dtype=np.float32),\n",
    "               np.array([0.], dtype=np.float32)]"
   ]
  },
  {
   "cell_type": "code",
   "execution_count": 45,
   "id": "90abdeeb",
   "metadata": {},
   "outputs": [],
   "source": [
    "model.set_weights(new_weights)"
   ]
  },
  {
   "cell_type": "code",
   "execution_count": 46,
   "id": "9b0e1047",
   "metadata": {},
   "outputs": [
    {
     "data": {
      "text/plain": [
       "[array([[0.1, 0.1],\n",
       "        [0.1, 0.1]], dtype=float32),\n",
       " array([0., 0.], dtype=float32),\n",
       " array([[0.1],\n",
       "        [0.1]], dtype=float32),\n",
       " array([0.], dtype=float32)]"
      ]
     },
     "execution_count": 46,
     "metadata": {},
     "output_type": "execute_result"
    }
   ],
   "source": [
    "model.get_weights()"
   ]
  },
  {
   "cell_type": "code",
   "execution_count": 47,
   "id": "f1049ac0",
   "metadata": {},
   "outputs": [],
   "source": [
    "optimizer = keras.optimizers.SGD(learning_rate=0.001)\n",
    "model.compile(loss=\"binary_crossentropy\",optimizer=optimizer)"
   ]
  },
  {
   "cell_type": "code",
   "execution_count": 48,
   "id": "29f96f48",
   "metadata": {},
   "outputs": [
    {
     "name": "stdout",
     "output_type": "stream",
     "text": [
      "Epoch 1/15\n",
      "1/1 [==============================] - 0s 234ms/step - loss: 0.6970\n",
      "Epoch 2/15\n",
      "1/1 [==============================] - 0s 3ms/step - loss: 0.6970\n",
      "Epoch 3/15\n",
      "1/1 [==============================] - 0s 3ms/step - loss: 0.6970\n",
      "Epoch 4/15\n",
      "1/1 [==============================] - 0s 3ms/step - loss: 0.6970\n",
      "Epoch 5/15\n",
      "1/1 [==============================] - 0s 3ms/step - loss: 0.6970\n",
      "Epoch 6/15\n",
      "1/1 [==============================] - 0s 4ms/step - loss: 0.6969\n",
      "Epoch 7/15\n",
      "1/1 [==============================] - 0s 3ms/step - loss: 0.6969\n",
      "Epoch 8/15\n",
      "1/1 [==============================] - 0s 2ms/step - loss: 0.6969\n",
      "Epoch 9/15\n",
      "1/1 [==============================] - 0s 3ms/step - loss: 0.6969\n",
      "Epoch 10/15\n",
      "1/1 [==============================] - 0s 5ms/step - loss: 0.6969\n",
      "Epoch 11/15\n",
      "1/1 [==============================] - 0s 3ms/step - loss: 0.6969\n",
      "Epoch 12/15\n",
      "1/1 [==============================] - 0s 3ms/step - loss: 0.6969\n",
      "Epoch 13/15\n",
      "1/1 [==============================] - 0s 3ms/step - loss: 0.6969\n",
      "Epoch 14/15\n",
      "1/1 [==============================] - 0s 3ms/step - loss: 0.6969\n",
      "Epoch 15/15\n",
      "1/1 [==============================] - 0s 3ms/step - loss: 0.6969\n"
     ]
    },
    {
     "data": {
      "text/plain": [
       "<keras.callbacks.History at 0x7f186c071190>"
      ]
     },
     "execution_count": 48,
     "metadata": {},
     "output_type": "execute_result"
    }
   ],
   "source": [
    "model.fit(df.iloc[:,:-1].values,df['lpa'].values,epochs =15)"
   ]
  },
  {
   "cell_type": "code",
   "execution_count": null,
   "id": "f235a13a",
   "metadata": {},
   "outputs": [],
   "source": []
  }
 ],
 "metadata": {
  "kernelspec": {
   "display_name": "Python 3 (ipykernel)",
   "language": "python",
   "name": "python3"
  },
  "language_info": {
   "codemirror_mode": {
    "name": "ipython",
    "version": 3
   },
   "file_extension": ".py",
   "mimetype": "text/x-python",
   "name": "python",
   "nbconvert_exporter": "python",
   "pygments_lexer": "ipython3",
   "version": "3.9.7"
  }
 },
 "nbformat": 4,
 "nbformat_minor": 5
}
