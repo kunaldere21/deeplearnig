{
 "cells": [
  {
   "cell_type": "code",
   "execution_count": 5,
   "id": "97c8df28",
   "metadata": {},
   "outputs": [
    {
     "name": "stdout",
     "output_type": "stream",
     "text": [
      "1\n",
      "2\n"
     ]
    }
   ],
   "source": [
    "a= int(input())\n",
    "b = int(input())"
   ]
  },
  {
   "cell_type": "code",
   "execution_count": 12,
   "id": "04c3c0cc",
   "metadata": {},
   "outputs": [],
   "source": [
    "def count_comman_mf(a,b):\n",
    "    count =0\n",
    "    for i in range(1,a+1):\n",
    "        if a%i == 0 and b%i==0:\n",
    "            count+=1\n",
    "    return count"
   ]
  },
  {
   "cell_type": "code",
   "execution_count": 13,
   "id": "5525f7b7",
   "metadata": {},
   "outputs": [
    {
     "data": {
      "text/plain": [
       "1"
      ]
     },
     "execution_count": 13,
     "metadata": {},
     "output_type": "execute_result"
    }
   ],
   "source": [
    "count_comman_mf(a,b)"
   ]
  },
  {
   "cell_type": "code",
   "execution_count": 14,
   "id": "69470df0",
   "metadata": {},
   "outputs": [
    {
     "data": {
      "text/plain": [
       "2"
      ]
     },
     "execution_count": 14,
     "metadata": {},
     "output_type": "execute_result"
    }
   ],
   "source": [
    "count_comman_mf(10,15)"
   ]
  },
  {
   "cell_type": "code",
   "execution_count": 15,
   "id": "5505b122",
   "metadata": {},
   "outputs": [
    {
     "data": {
      "text/plain": [
       "1"
      ]
     },
     "execution_count": 15,
     "metadata": {},
     "output_type": "execute_result"
    }
   ],
   "source": [
    "count_comman_mf(1,2)"
   ]
  },
  {
   "cell_type": "code",
   "execution_count": 16,
   "id": "da89ce5c",
   "metadata": {},
   "outputs": [
    {
     "data": {
      "text/plain": [
       "4"
      ]
     },
     "execution_count": 16,
     "metadata": {},
     "output_type": "execute_result"
    }
   ],
   "source": [
    "count_comman_mf(10,20)"
   ]
  },
  {
   "cell_type": "code",
   "execution_count": 17,
   "id": "ca7b7d8b",
   "metadata": {},
   "outputs": [
    {
     "name": "stdout",
     "output_type": "stream",
     "text": [
      "2\n",
      "2\n",
      "3\n",
      "NAH\n",
      "YEAH\n"
     ]
    }
   ],
   "source": [
    "testSize = int(input())\n",
    "nArr=[]\n",
    "for i in range(1,testSize+1):\n",
    "    nArr.append(int(input()))\n",
    "  \n",
    "for n in nArr:\n",
    "    if n>=1 and n<=(10**9):\n",
    "        prod = 1\n",
    "        sum = 0\n",
    "        for i in range(1, n+1):\n",
    "            prod = prod*i\n",
    "            sum = sum+i\n",
    "        if prod%sum==0:\n",
    "            print(\"YEAH\")\n",
    "        else:\n",
    "            print(\"NAH\")"
   ]
  },
  {
   "cell_type": "code",
   "execution_count": 99,
   "id": "3c19a451",
   "metadata": {},
   "outputs": [
    {
     "name": "stdout",
     "output_type": "stream",
     "text": [
      "bay a stock day1 in Rs 100\n",
      "sell a stock day6 of profit Rs   595\n",
      "--------------------------------------------------------------------\n",
      "bay a stock day2 in Rs 180\n",
      "sell a stock day6 of profit Rs   515\n",
      "--------------------------------------------------------------------\n",
      "bay a stock day3 in Rs 260\n",
      "sell a stock day6 of profit Rs   435\n",
      "--------------------------------------------------------------------\n",
      "bay a stock day4 in Rs 310\n",
      "sell a stock day6 of profit Rs   385\n",
      "--------------------------------------------------------------------\n",
      "bay a stock day5 in Rs 40\n",
      "sell a stock day6 of profit Rs   655\n",
      "--------------------------------------------------------------------\n",
      "bay a stock day6 in Rs 695\n",
      "sell a stock day6 of profit Rs   0\n",
      "--------------------------------------------------------------------\n",
      "bay a stock day7 in Rs 535\n",
      "sell a stock day7 of profit Rs   0\n",
      "--------------------------------------------------------------------\n"
     ]
    },
    {
     "data": {
      "text/plain": [
       "655"
      ]
     },
     "execution_count": 99,
     "metadata": {},
     "output_type": "execute_result"
    }
   ],
   "source": [
    "st=[100, 180, 260, 310, 40, 695,535]\n",
    "ls =[]\n",
    "r = len(st)\n",
    "\n",
    "count = 1\n",
    "for s in st:\n",
    "    temp = []\n",
    "    print(\"bay a stock day\"+str(st.index(s)+1)+' in Rs',s)\n",
    "    \n",
    "    try:\n",
    "        for i in range(st.index(s),r):\n",
    "            \n",
    "            sub = 0\n",
    "            sub = st[i]-s\n",
    "            temp.append(sub)\n",
    "        m1 =max(temp)\n",
    "\n",
    "        print(\"sell a stock day\"+str(temp.index(m1)+count)+' of profit Rs  ',m1)\n",
    "        count+=1\n",
    "        print('--------------------------------------------------------------------')\n",
    "    except:\n",
    "        print(\"sell a stock day\"+str(i+1)+' of profit Rs  ',0)\n",
    "\n",
    "#     print(m1)\n",
    "    ls.append(m1)\n",
    "max(ls)\n"
   ]
  },
  {
   "cell_type": "code",
   "execution_count": 119,
   "id": "f3a0ab58",
   "metadata": {},
   "outputs": [],
   "source": [
    "ls = [1, 3, 5, 6, 9]"
   ]
  },
  {
   "cell_type": "code",
   "execution_count": 121,
   "id": "a9909e25",
   "metadata": {},
   "outputs": [],
   "source": [
    "ls = [1, 2, 3, 5]"
   ]
  },
  {
   "cell_type": "code",
   "execution_count": 123,
   "id": "4caf3b97",
   "metadata": {},
   "outputs": [],
   "source": [
    "ls = [11, 22, 33, 44, 55, 67, 77]"
   ]
  },
  {
   "cell_type": "code",
   "execution_count": 124,
   "id": "0e1dfd0d",
   "metadata": {},
   "outputs": [
    {
     "name": "stdout",
     "output_type": "stream",
     "text": [
      "67\n"
     ]
    }
   ],
   "source": [
    "l = []\n",
    "\n",
    "try:\n",
    "    for i in range(1,len(ls)-1):\n",
    "        if (ls[i]-ls[i-1]) != (ls[i+1]-ls[i]):\n",
    "            l.append(ls[i])\n",
    "    print(l[1])\n",
    "except:\n",
    "    print(ls[len(ls)-1])\n",
    "            "
   ]
  },
  {
   "cell_type": "code",
   "execution_count": 1,
   "id": "d7907ec6",
   "metadata": {},
   "outputs": [],
   "source": [
    "x =1"
   ]
  },
  {
   "cell_type": "code",
   "execution_count": 2,
   "id": "a98efb2b",
   "metadata": {},
   "outputs": [
    {
     "data": {
      "text/plain": [
       "0"
      ]
     },
     "execution_count": 2,
     "metadata": {},
     "output_type": "execute_result"
    }
   ],
   "source": [
    "x>>2"
   ]
  },
  {
   "cell_type": "code",
   "execution_count": 3,
   "id": "9b4246ab",
   "metadata": {},
   "outputs": [
    {
     "data": {
      "text/plain": [
       "1"
      ]
     },
     "execution_count": 3,
     "metadata": {},
     "output_type": "execute_result"
    }
   ],
   "source": [
    "x"
   ]
  },
  {
   "cell_type": "code",
   "execution_count": 9,
   "id": "ee29fd5a",
   "metadata": {},
   "outputs": [
    {
     "name": "stdout",
     "output_type": "stream",
     "text": [
      "True\n"
     ]
    }
   ],
   "source": [
    "def foo(x):\n",
    "    x[0] = 'def'\n",
    "    x[1] = 'abc'\n",
    "    return id(x)\n",
    "\n",
    "q = ['abc', 'def']\n",
    "print(id(q) == foo(q))"
   ]
  },
  {
   "cell_type": "code",
   "execution_count": 8,
   "id": "811ff939",
   "metadata": {},
   "outputs": [
    {
     "name": "stdout",
     "output_type": "stream",
     "text": [
      "139832995418688\n"
     ]
    }
   ],
   "source": [
    "print(foo(q))"
   ]
  },
  {
   "cell_type": "code",
   "execution_count": 11,
   "id": "ba613c84",
   "metadata": {},
   "outputs": [
    {
     "name": "stdout",
     "output_type": "stream",
     "text": [
      "{'a', 'c', 'b'}\n",
      "{'a', 'san', 'c', 'b'}\n"
     ]
    },
    {
     "data": {
      "text/plain": [
       "{'a', 'b', 'c', 'p', 'q', 'san'}"
      ]
     },
     "execution_count": 11,
     "metadata": {},
     "output_type": "execute_result"
    }
   ],
   "source": [
    "z=set('abc')\n",
    "print(z)\n",
    "z.add('san')\n",
    "print(z)\n",
    "z.update(set(['p', 'q']))\n",
    "z"
   ]
  },
  {
   "cell_type": "code",
   "execution_count": 19,
   "id": "57f49758",
   "metadata": {},
   "outputs": [
    {
     "name": "stdout",
     "output_type": "stream",
     "text": [
      "5\n"
     ]
    }
   ],
   "source": [
    "def addItem(listParam):\n",
    "    listParam += [5]\n",
    " \n",
    "mylist = [1, 2, 3, 4]\n",
    "addItem(mylist)\n",
    "print(len(mylist))"
   ]
  },
  {
   "cell_type": "code",
   "execution_count": 20,
   "id": "fe45c1f0",
   "metadata": {},
   "outputs": [
    {
     "data": {
      "text/plain": [
       "[1, 2, 3, 4, 5]"
      ]
     },
     "execution_count": 20,
     "metadata": {},
     "output_type": "execute_result"
    }
   ],
   "source": [
    "mylist"
   ]
  },
  {
   "cell_type": "code",
   "execution_count": 22,
   "id": "55f7084c",
   "metadata": {},
   "outputs": [
    {
     "data": {
      "text/plain": [
       "['[0]', '[1]']"
      ]
     },
     "execution_count": 22,
     "metadata": {},
     "output_type": "execute_result"
    }
   ],
   "source": [
    "x =  [[0], [1]]\n",
    "list(map(str, x))"
   ]
  },
  {
   "cell_type": "code",
   "execution_count": 26,
   "id": "d88db390",
   "metadata": {},
   "outputs": [
    {
     "name": "stdout",
     "output_type": "stream",
     "text": [
      "<filter object at 0x7f2d680a4a30>\n",
      "[1, -2, -3]\n"
     ]
    }
   ],
   "source": [
    "l=[1, -2, -3, 4, 5]\n",
    "def f1(x):\n",
    "    return x<2\n",
    "m1=filter(f1, l)\n",
    "print(m1)\n",
    "print(list(m1))"
   ]
  },
  {
   "cell_type": "code",
   "execution_count": 27,
   "id": "ce087b38",
   "metadata": {},
   "outputs": [
    {
     "name": "stdout",
     "output_type": "stream",
     "text": [
      "[-4, 8]\n"
     ]
    }
   ],
   "source": [
    "l=[-2, 4]\n",
    "m=map(lambda x:x*2, l)\n",
    "print(list(m))\n"
   ]
  },
  {
   "cell_type": "code",
   "execution_count": 31,
   "id": "dbe91b9b",
   "metadata": {},
   "outputs": [
    {
     "name": "stdout",
     "output_type": "stream",
     "text": [
      "5\n"
     ]
    }
   ],
   "source": [
    "import functools\n",
    "l=[1, 2, 3, 4, 5]\n",
    "m=functools.reduce(lambda x, y:x if x>y else y, l)\n",
    "print(m)"
   ]
  },
  {
   "cell_type": "code",
   "execution_count": 34,
   "id": "4bdfc8f5",
   "metadata": {},
   "outputs": [],
   "source": [
    "def max1(l):\n",
    "    m = l[0]\n",
    "    for i in range(1,len(l)):\n",
    "        if m < l[i]:\n",
    "            m = l[i]\n",
    "    return m\n",
    "            \n",
    "            "
   ]
  },
  {
   "cell_type": "code",
   "execution_count": 35,
   "id": "beaa7436",
   "metadata": {},
   "outputs": [
    {
     "data": {
      "text/plain": [
       "5"
      ]
     },
     "execution_count": 35,
     "metadata": {},
     "output_type": "execute_result"
    }
   ],
   "source": [
    "max1(l)"
   ]
  },
  {
   "cell_type": "code",
   "execution_count": 38,
   "id": "1a6bca3f",
   "metadata": {},
   "outputs": [
    {
     "name": "stdout",
     "output_type": "stream",
     "text": [
      "[1, 2, 3, 4, 5, 6, 7, 8, 9, 10, 11, 12, 13, 14, 16, 17, 18, 19, 20, 21, 22, 23, 24, 25, 26, 27, 28, 29]\n"
     ]
    }
   ],
   "source": [
    "def sf(a):\n",
    "    return a%3!=0 or  a%5!=0\n",
    "m=filter(sf, range(1, 31))\n",
    "print(list(m))\n"
   ]
  },
  {
   "cell_type": "code",
   "execution_count": 39,
   "id": "9097ba19",
   "metadata": {},
   "outputs": [],
   "source": [
    "class foo:\n",
    "    def __init__(self, x):\n",
    "        self.x = x\n",
    "    def __lt__(self, other):\n",
    "        if self.x < other.x:\n",
    "            return True\n",
    "        else:\n",
    "            return False"
   ]
  },
  {
   "cell_type": "code",
   "execution_count": 40,
   "id": "ff5d00a0",
   "metadata": {},
   "outputs": [
    {
     "name": "stdout",
     "output_type": "stream",
     "text": [
      "True\n"
     ]
    }
   ],
   "source": [
    "a = foo(2)\n",
    "b = foo(3)\n",
    "print(a < b)"
   ]
  },
  {
   "cell_type": "code",
   "execution_count": 41,
   "id": "965bd366",
   "metadata": {},
   "outputs": [
    {
     "name": "stdout",
     "output_type": "stream",
     "text": [
      "False\n"
     ]
    }
   ],
   "source": [
    "a = foo(2)\n",
    "b = foo(1)\n",
    "print(a < b)"
   ]
  },
  {
   "cell_type": "code",
   "execution_count": 44,
   "id": "09fdf866",
   "metadata": {},
   "outputs": [
    {
     "name": "stdout",
     "output_type": "stream",
     "text": [
      "1\n"
     ]
    }
   ],
   "source": [
    "class Test:\n",
    "    def __init__(self):\n",
    "        self.x = 0\n",
    "class Derived_Test(Test):\n",
    "    def __init__(self):\n",
    "        self.y = 1\n",
    "        \n",
    "b = Derived_Test()\n",
    "print(b.y)"
   ]
  },
  {
   "cell_type": "code",
   "execution_count": 3,
   "id": "869e0761",
   "metadata": {},
   "outputs": [],
   "source": [
    "class dict_parse :\n",
    "    def get_key(self,d):\n",
    "        for i in d.keys():\n",
    "            print(i)\n",
    "    def get_vslue(self,d):\n",
    "        for i in d.values():\n",
    "            print(i)"
   ]
  },
  {
   "cell_type": "code",
   "execution_count": 4,
   "id": "f5a41519",
   "metadata": {},
   "outputs": [],
   "source": [
    "d = dict_parse()"
   ]
  },
  {
   "cell_type": "code",
   "execution_count": 6,
   "id": "a585877e",
   "metadata": {},
   "outputs": [
    {
     "name": "stdout",
     "output_type": "stream",
     "text": [
      "1\n",
      "2\n",
      "3\n",
      "4\n",
      "5\n",
      "6\n",
      "7\n",
      "8\n",
      "9\n",
      "10\n"
     ]
    }
   ],
   "source": [
    "dict1 = {x: x**2 for x in range(1,11)}\n",
    "d.get_key(dict1)"
   ]
  },
  {
   "cell_type": "code",
   "execution_count": 7,
   "id": "26b84fe8",
   "metadata": {},
   "outputs": [],
   "source": [
    "def check_prime_num(n):\n",
    "    if n == 1 or n==2:\n",
    "        print(\"it is prime number\")\n",
    "    else :\n",
    "        count =0\n",
    "        for i in range(1,n+1):\n",
    "            if n%i ==0 :\n",
    "                count+=1\n",
    "        if count ==2:\n",
    "            print(\"it is prime number\")\n",
    "        else:\n",
    "            print('it is not prime number')\n",
    "            "
   ]
  },
  {
   "cell_type": "code",
   "execution_count": 9,
   "id": "ea086c8a",
   "metadata": {},
   "outputs": [
    {
     "name": "stdout",
     "output_type": "stream",
     "text": [
      "it is not prime number\n"
     ]
    }
   ],
   "source": [
    "check_prime_num(10)"
   ]
  },
  {
   "cell_type": "code",
   "execution_count": 13,
   "id": "f2e02a11",
   "metadata": {},
   "outputs": [
    {
     "name": "stdout",
     "output_type": "stream",
     "text": [
      "it is not prime number\n"
     ]
    }
   ],
   "source": [
    "check_prime_num(1234567)"
   ]
  },
  {
   "cell_type": "code",
   "execution_count": null,
   "id": "ac1e9dd3",
   "metadata": {},
   "outputs": [],
   "source": []
  }
 ],
 "metadata": {
  "kernelspec": {
   "display_name": "Python 3 (ipykernel)",
   "language": "python",
   "name": "python3"
  },
  "language_info": {
   "codemirror_mode": {
    "name": "ipython",
    "version": 3
   },
   "file_extension": ".py",
   "mimetype": "text/x-python",
   "name": "python",
   "nbconvert_exporter": "python",
   "pygments_lexer": "ipython3",
   "version": "3.9.7"
  }
 },
 "nbformat": 4,
 "nbformat_minor": 5
}
