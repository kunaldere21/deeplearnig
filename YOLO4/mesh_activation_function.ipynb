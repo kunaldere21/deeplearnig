{
 "cells": [
  {
   "cell_type": "code",
   "execution_count": 1,
   "id": "729e5342",
   "metadata": {},
   "outputs": [],
   "source": [
    "import math\n",
    "import numpy as np"
   ]
  },
  {
   "cell_type": "code",
   "execution_count": 2,
   "id": "8d4a1154",
   "metadata": {},
   "outputs": [],
   "source": [
    "def softplus(x):\n",
    "    return np.log(1+np.exp(x))"
   ]
  },
  {
   "cell_type": "code",
   "execution_count": 3,
   "id": "64109746",
   "metadata": {},
   "outputs": [],
   "source": [
    "def tanh(x):\n",
    "    return (np.exp(x)-np.exp(-x))/(np.exp(x)+np.exp(-x))"
   ]
  },
  {
   "cell_type": "code",
   "execution_count": 4,
   "id": "674c86cb",
   "metadata": {},
   "outputs": [],
   "source": [
    "def mesh(x):\n",
    "    return x*tanh(softplus(x))"
   ]
  },
  {
   "cell_type": "code",
   "execution_count": 5,
   "id": "d5a389d7",
   "metadata": {},
   "outputs": [],
   "source": [
    "x =1"
   ]
  },
  {
   "cell_type": "code",
   "execution_count": 6,
   "id": "f3f4affb",
   "metadata": {},
   "outputs": [
    {
     "data": {
      "text/plain": [
       "0.8650983882673103"
      ]
     },
     "execution_count": 6,
     "metadata": {},
     "output_type": "execute_result"
    }
   ],
   "source": [
    "mesh(x)"
   ]
  },
  {
   "cell_type": "code",
   "execution_count": 7,
   "id": "10527090",
   "metadata": {},
   "outputs": [
    {
     "data": {
      "text/plain": [
       "0.7615941559557649"
      ]
     },
     "execution_count": 7,
     "metadata": {},
     "output_type": "execute_result"
    }
   ],
   "source": [
    "tanh(x)"
   ]
  },
  {
   "cell_type": "code",
   "execution_count": 8,
   "id": "86e58672",
   "metadata": {},
   "outputs": [
    {
     "data": {
      "text/plain": [
       "1.3132616875182228"
      ]
     },
     "execution_count": 8,
     "metadata": {},
     "output_type": "execute_result"
    }
   ],
   "source": [
    "softplus(x)"
   ]
  },
  {
   "cell_type": "code",
   "execution_count": 14,
   "id": "21aecf72",
   "metadata": {},
   "outputs": [],
   "source": [
    "class activation:\n",
    "    def __init__(self):\n",
    "        self.x = x\n",
    "    def softplus(self,x):\n",
    "        return np.log(1+np.exp(self.x))\n",
    "    def tanh(self,x):\n",
    "        return (np.exp(self.x)-np.exp(-self.x))/(np.exp(self.x)+np.exp(-self.x))\n",
    "    def mesh(self,x):\n",
    "        return self.x*tanh(softplus(self.x))\n",
    "    def relu(self,x):\n",
    "        if self.x >0:\n",
    "            return self.x\n",
    "        else:\n",
    "            return 0\n",
    "    def sigmoid(self,x):\n",
    "        return 1/(1-np.exp(self.x))\n",
    "    "
   ]
  },
  {
   "cell_type": "code",
   "execution_count": 15,
   "id": "f0466b8b",
   "metadata": {},
   "outputs": [],
   "source": [
    "act = activation()"
   ]
  },
  {
   "cell_type": "code",
   "execution_count": 16,
   "id": "435f0800",
   "metadata": {},
   "outputs": [
    {
     "data": {
      "text/plain": [
       "0.8650983882673103"
      ]
     },
     "execution_count": 16,
     "metadata": {},
     "output_type": "execute_result"
    }
   ],
   "source": [
    "act.mesh(x)"
   ]
  },
  {
   "cell_type": "code",
   "execution_count": 17,
   "id": "2f8fd704",
   "metadata": {},
   "outputs": [
    {
     "data": {
      "text/plain": [
       "-0.5819767068693265"
      ]
     },
     "execution_count": 17,
     "metadata": {},
     "output_type": "execute_result"
    }
   ],
   "source": [
    "act.sigmoid(0)"
   ]
  },
  {
   "cell_type": "code",
   "execution_count": 18,
   "id": "f3679f05",
   "metadata": {},
   "outputs": [],
   "source": [
    "# other way implement mesh actuvation fuction"
   ]
  },
  {
   "cell_type": "code",
   "execution_count": 24,
   "id": "21d0632b",
   "metadata": {},
   "outputs": [],
   "source": [
    "import tensorflow as tf\n",
    "from tensorflow import keras "
   ]
  },
  {
   "cell_type": "code",
   "execution_count": 26,
   "id": "17fd1121",
   "metadata": {},
   "outputs": [],
   "source": [
    "def mesh(x):\n",
    "    return x*keras.backend.tanh(keras.backend.softplus(x))"
   ]
  },
  {
   "cell_type": "code",
   "execution_count": null,
   "id": "94e0f0d3",
   "metadata": {},
   "outputs": [],
   "source": []
  }
 ],
 "metadata": {
  "kernelspec": {
   "display_name": "Python 3 (ipykernel)",
   "language": "python",
   "name": "python3"
  },
  "language_info": {
   "codemirror_mode": {
    "name": "ipython",
    "version": 3
   },
   "file_extension": ".py",
   "mimetype": "text/x-python",
   "name": "python",
   "nbconvert_exporter": "python",
   "pygments_lexer": "ipython3",
   "version": "3.9.7"
  }
 },
 "nbformat": 4,
 "nbformat_minor": 5
}
