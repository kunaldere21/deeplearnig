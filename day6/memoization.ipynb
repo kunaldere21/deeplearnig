{
 "cells": [
  {
   "cell_type": "code",
   "execution_count": 1,
   "id": "8e33ff49",
   "metadata": {},
   "outputs": [],
   "source": [
    "import time\n",
    "def fibo(n):\n",
    "    if n ==0 or n==1:\n",
    "        return 1\n",
    "    else:\n",
    "        return fibo(n-1)+fibo(n-2)"
   ]
  },
  {
   "cell_type": "code",
   "execution_count": 6,
   "id": "996a16c8",
   "metadata": {},
   "outputs": [
    {
     "name": "stdout",
     "output_type": "stream",
     "text": [
      "165580141\n",
      "total time 29.60793972015381\n"
     ]
    }
   ],
   "source": [
    "start_time = time.time()\n",
    "print(fibo(40))\n",
    "print('total time', time.time()-start_time)"
   ]
  },
  {
   "cell_type": "code",
   "execution_count": 7,
   "id": "3628de65",
   "metadata": {},
   "outputs": [],
   "source": [
    "import time # time efficient program\n",
    "def fibo(n,d):\n",
    "    if n in d:\n",
    "        return d[n]\n",
    "    else:\n",
    "        d[n] = fibo(n-1,d)+fibo(n-2,d)\n",
    "        return d[n]"
   ]
  },
  {
   "cell_type": "code",
   "execution_count": 10,
   "id": "fab1a1fe",
   "metadata": {},
   "outputs": [
    {
     "name": "stdout",
     "output_type": "stream",
     "text": [
      "165580141\n",
      "total time 0.0001571178436279297\n"
     ]
    }
   ],
   "source": [
    "start_time = time.time()\n",
    "d = {0:1,1:1}\n",
    "print(fibo(40,d))\n",
    "print('total time', time.time()-start_time)"
   ]
  },
  {
   "cell_type": "code",
   "execution_count": 11,
   "id": "e18f8d46",
   "metadata": {},
   "outputs": [
    {
     "name": "stdout",
     "output_type": "stream",
     "text": [
      "{0: 1, 1: 1, 2: 2, 3: 3, 4: 5, 5: 8, 6: 13, 7: 21, 8: 34, 9: 55, 10: 89, 11: 144, 12: 233, 13: 377, 14: 610, 15: 987, 16: 1597, 17: 2584, 18: 4181, 19: 6765, 20: 10946, 21: 17711, 22: 28657, 23: 46368, 24: 75025, 25: 121393, 26: 196418, 27: 317811, 28: 514229, 29: 832040, 30: 1346269, 31: 2178309, 32: 3524578, 33: 5702887, 34: 9227465, 35: 14930352, 36: 24157817, 37: 39088169, 38: 63245986, 39: 102334155, 40: 165580141}\n"
     ]
    }
   ],
   "source": [
    "print(d)"
   ]
  },
  {
   "cell_type": "code",
   "execution_count": null,
   "id": "878ecfbc",
   "metadata": {},
   "outputs": [],
   "source": []
  }
 ],
 "metadata": {
  "kernelspec": {
   "display_name": "Python 3 (ipykernel)",
   "language": "python",
   "name": "python3"
  },
  "language_info": {
   "codemirror_mode": {
    "name": "ipython",
    "version": 3
   },
   "file_extension": ".py",
   "mimetype": "text/x-python",
   "name": "python",
   "nbconvert_exporter": "python",
   "pygments_lexer": "ipython3",
   "version": "3.9.7"
  }
 },
 "nbformat": 4,
 "nbformat_minor": 5
}
