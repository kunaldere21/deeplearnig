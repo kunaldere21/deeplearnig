{
 "cells": [
  {
   "cell_type": "code",
   "execution_count": 12,
   "id": "6d4fb2cf",
   "metadata": {},
   "outputs": [],
   "source": [
    "import numpy as np\n",
    "import matplotlib.pyplot as plt\n",
    "from sklearn.datasets import make_moons\n",
    "import seaborn as sns\n",
    "from mlxtend.plotting import plot_decision_regions\n",
    "\n",
    "import tensorflow\n",
    "from tensorflow.keras.models import Sequential\n",
    "from tensorflow.keras.layers import Dense\n",
    "from tensorflow.keras.layers import Dropout\n",
    "from tensorflow.keras.optimizers import Adam"
   ]
  },
  {
   "cell_type": "code",
   "execution_count": 17,
   "id": "1c34f564",
   "metadata": {},
   "outputs": [
    {
     "data": {
      "text/plain": [
       "array([[ 1.04051282e+00, -2.33491352e-02],\n",
       "       [-5.54741398e-01,  1.27013832e+00],\n",
       "       [-7.23715066e-02, -1.77901205e-01],\n",
       "       [-4.71961272e-02,  1.21883595e+00],\n",
       "       [ 9.13794475e-01,  8.59883240e-01],\n",
       "       [ 5.41150127e-01,  6.95140255e-01],\n",
       "       [ 7.03026094e-01, -2.57985072e-01],\n",
       "       [-1.33401091e-01,  1.06959481e+00],\n",
       "       [-1.14287718e-01,  8.97688273e-01],\n",
       "       [ 1.01150903e+00,  8.49916582e-01],\n",
       "       [ 2.12537198e+00,  5.08605794e-01],\n",
       "       [ 1.70010780e+00,  7.16265767e-01],\n",
       "       [ 1.55439712e+00, -8.60585592e-01],\n",
       "       [ 5.55027808e-01,  5.76836247e-01],\n",
       "       [ 1.15481964e+00, -1.43219905e-01],\n",
       "       [ 2.86145607e-01,  1.32282616e+00],\n",
       "       [ 4.89545211e-01,  2.91536879e-01],\n",
       "       [-6.67796665e-01,  7.81730273e-01],\n",
       "       [ 2.23453555e-01,  3.34602767e-02],\n",
       "       [ 1.18698241e+00, -3.39029325e-01],\n",
       "       [-6.08507947e-01,  4.54265298e-01],\n",
       "       [ 8.29543872e-01,  7.39089646e-01],\n",
       "       [ 1.13299058e+00, -2.62270185e-01],\n",
       "       [-1.12560445e+00,  2.03362700e-01],\n",
       "       [ 3.77786505e-01, -4.78111325e-01],\n",
       "       [ 8.34495968e-01,  1.77043692e-01],\n",
       "       [ 9.57043344e-02,  1.19459629e+00],\n",
       "       [ 1.19522044e+00, -6.16782933e-01],\n",
       "       [ 1.18542363e+00, -6.48091786e-01],\n",
       "       [ 1.91627097e-01, -1.87110063e-01],\n",
       "       [ 6.22682437e-01, -3.72074177e-01],\n",
       "       [ 8.79211410e-01,  5.14357967e-02],\n",
       "       [ 8.95362308e-01,  5.41563102e-01],\n",
       "       [-1.00362683e+00,  1.07420269e-01],\n",
       "       [-4.47824943e-01,  6.57513370e-01],\n",
       "       [ 1.64485101e+00, -5.00812401e-01],\n",
       "       [ 7.29445567e-01,  6.59944446e-01],\n",
       "       [ 1.60472144e+00,  4.91231435e-02],\n",
       "       [ 1.75869321e+00,  1.62088638e-01],\n",
       "       [ 1.09122040e+00,  8.92641380e-01],\n",
       "       [ 6.91751956e-01,  7.53285163e-01],\n",
       "       [-2.58782726e-02,  7.37520222e-01],\n",
       "       [ 1.80741264e+00, -2.86834575e-01],\n",
       "       [-4.95000415e-01,  3.89999668e-01],\n",
       "       [ 2.01301078e+00,  9.21778856e-02],\n",
       "       [-1.44618410e-01,  1.04564767e+00],\n",
       "       [ 6.24316345e-01,  8.92858486e-01],\n",
       "       [ 2.84819150e-03,  9.70205594e-01],\n",
       "       [ 1.04333502e-01,  2.58784693e-01],\n",
       "       [ 1.83056431e-01, -3.34019660e-01],\n",
       "       [ 1.19564784e+00,  4.58513443e-01],\n",
       "       [ 2.29116466e+00,  5.77794312e-01],\n",
       "       [ 6.87067347e-01,  4.23905408e-01],\n",
       "       [-1.54043888e-02, -7.88659801e-02],\n",
       "       [ 5.28705641e-02, -1.75786782e-03],\n",
       "       [-9.77916874e-01,  6.66335364e-01],\n",
       "       [ 6.62257226e-01, -4.75461888e-01],\n",
       "       [-5.99636337e-01,  1.23504535e-01],\n",
       "       [ 2.15329110e+00,  2.70761444e-01],\n",
       "       [ 1.25365994e+00,  8.41680190e-02],\n",
       "       [ 7.04598129e-01, -5.53171846e-01],\n",
       "       [ 2.07120342e+00,  1.65333096e-01],\n",
       "       [ 1.98170773e+00, -2.31515937e-01],\n",
       "       [ 2.30837984e+00,  1.06501489e-01],\n",
       "       [ 1.36510669e+00, -8.37211186e-02],\n",
       "       [ 1.27119072e+00, -3.42505762e-02],\n",
       "       [-1.37132679e-01,  3.18439606e-01],\n",
       "       [-1.72593644e-01,  7.46298134e-01],\n",
       "       [ 8.44953237e-01, -5.30737164e-01],\n",
       "       [ 1.67314478e+00, -4.90941630e-01],\n",
       "       [ 9.00438096e-01, -3.44042774e-01],\n",
       "       [-1.30267843e+00, -1.59490015e-01],\n",
       "       [ 3.49786129e-01, -8.42658546e-01],\n",
       "       [ 9.11263136e-01, -4.26072656e-01],\n",
       "       [ 1.53227356e+00, -6.02610451e-01],\n",
       "       [ 2.67925537e-01, -1.07982583e-01],\n",
       "       [-5.84416822e-01,  6.59151277e-01],\n",
       "       [-9.63542081e-01,  1.26266905e+00],\n",
       "       [ 7.28217287e-02,  4.15760049e-01],\n",
       "       [-1.49821021e+00,  6.32861098e-01],\n",
       "       [ 9.43331071e-01,  9.59920313e-02],\n",
       "       [ 2.94473136e-01, -5.82517607e-01],\n",
       "       [-1.01625426e+00,  7.63014586e-01],\n",
       "       [-5.61742417e-01,  4.49437523e-01],\n",
       "       [ 1.33142744e-01,  8.52475006e-01],\n",
       "       [-2.38044211e-01,  6.48854046e-01],\n",
       "       [ 9.68854408e-01, -4.65120493e-01],\n",
       "       [-1.25172176e+00,  6.85787241e-02],\n",
       "       [ 1.40296232e+00, -3.86856668e-01],\n",
       "       [ 1.85157617e+00,  4.16403243e-01],\n",
       "       [-9.32956377e-01, -4.45040468e-02],\n",
       "       [-6.56375714e-01,  3.36203608e-01],\n",
       "       [ 1.07824617e+00,  1.90439521e-01],\n",
       "       [ 8.14837858e-01, -5.26847459e-01],\n",
       "       [ 9.49587185e-01, -3.49531832e-01],\n",
       "       [-8.27320508e-01,  5.23439288e-01],\n",
       "       [ 4.91262118e-01,  8.07694062e-01],\n",
       "       [ 2.20451351e-01, -4.47797572e-01],\n",
       "       [ 7.60368592e-01,  6.70700681e-01],\n",
       "       [-6.63931219e-01,  7.04449526e-01]])"
      ]
     },
     "execution_count": 17,
     "metadata": {},
     "output_type": "execute_result"
    }
   ],
   "source": [
    "X, y = make_moons(100, noise=0.25,random_state=2)\n",
    "X"
   ]
  },
  {
   "cell_type": "code",
   "execution_count": 18,
   "id": "6b0987ec",
   "metadata": {},
   "outputs": [
    {
     "data": {
      "image/png": "[encoded data removed]",
      "text/plain": [
       "<Figure size 432x288 with 1 Axes>"
      ]
     },
     "metadata": {
      "needs_background": "light"
     },
     "output_type": "display_data"
    }
   ],
   "source": [
    "import matplotlib.pyplot as plt\n",
    "plt.scatter(X[:,0], X[:,1], c=y)\n",
    "plt.show()"
   ]
  },
  {
   "cell_type": "code",
   "execution_count": 19,
   "id": "bb5578a4",
   "metadata": {},
   "outputs": [
    {
     "name": "stdout",
     "output_type": "stream",
     "text": [
      "Model: \"sequential_3\"\n",
      "_________________________________________________________________\n",
      " Layer (type)                Output Shape              Param #   \n",
      "=================================================================\n",
      " dense_9 (Dense)             (None, 128)               384       \n",
      "                                                                 \n",
      " dense_10 (Dense)            (None, 128)               16512     \n",
      "                                                                 \n",
      " dense_11 (Dense)            (None, 1)                 129       \n",
      "                                                                 \n",
      "=================================================================\n",
      "Total params: 17,025\n",
      "Trainable params: 17,025\n",
      "Non-trainable params: 0\n",
      "_________________________________________________________________\n"
     ]
    }
   ],
   "source": [
    "model1 = Sequential()\n",
    "\n",
    "model1.add(Dense(128,input_dim=2, activation=\"relu\"))\n",
    "model1.add(Dense(128, activation=\"relu\"))\n",
    "model1.add(Dense(1,activation='sigmoid'))\n",
    "\n",
    "model1.summary()"
   ]
  },
  {
   "cell_type": "code",
   "execution_count": 20,
   "id": "0550edb9",
   "metadata": {},
   "outputs": [],
   "source": [
    "adam = Adam(learning_rate=0.01)\n",
    "model1.compile(loss='binary_crossentropy', optimizer=adam, metrics=['accuracy'])\n",
    "\n",
    "history1 = model1.fit(X, y, epochs=2000, validation_split = 0.2,verbose=0)"
   ]
  },
  {
   "cell_type": "code",
   "execution_count": 21,
   "id": "97e2fe05",
   "metadata": {},
   "outputs": [
    {
     "data": {
      "image/png": "[encoded data removed]",
      "text/plain": [
       "<Figure size 432x288 with 1 Axes>"
      ]
     },
     "metadata": {
      "needs_background": "light"
     },
     "output_type": "display_data"
    }
   ],
   "source": [
    "plot_decision_regions(X, y.astype('int'), clf=model1, legend=2)\n",
    "plt.xlim(-2,3)\n",
    "plt.ylim(-1.5,2)\n",
    "plt.show()"
   ]
  },
  {
   "cell_type": "code",
   "execution_count": 23,
   "id": "a752d81c",
   "metadata": {},
   "outputs": [
    {
     "data": {
      "text/plain": [
       "[<matplotlib.lines.Line2D at 0x7f95dc74f3a0>]"
      ]
     },
     "execution_count": 23,
     "metadata": {},
     "output_type": "execute_result"
    },
    {
     "data": {
      "image/png": "[encoded data removed]",
      "text/plain": [
       "<Figure size 432x288 with 1 Axes>"
      ]
     },
     "metadata": {
      "needs_background": "light"
     },
     "output_type": "display_data"
    }
   ],
   "source": [
    "plt.plot(history1.history['loss'])\n",
    "plt.plot(history1.history['val_loss'])"
   ]
  },
  {
   "cell_type": "code",
   "execution_count": 27,
   "id": "35bf5035",
   "metadata": {},
   "outputs": [
    {
     "name": "stdout",
     "output_type": "stream",
     "text": [
      "Model: \"sequential_5\"\n",
      "_________________________________________________________________\n",
      " Layer (type)                Output Shape              Param #   \n",
      "=================================================================\n",
      " dense_15 (Dense)            (None, 128)               384       \n",
      "                                                                 \n",
      " dense_16 (Dense)            (None, 128)               16512     \n",
      "                                                                 \n",
      " dense_17 (Dense)            (None, 1)                 129       \n",
      "                                                                 \n",
      "=================================================================\n",
      "Total params: 17,025\n",
      "Trainable params: 17,025\n",
      "Non-trainable params: 0\n",
      "_________________________________________________________________\n"
     ]
    }
   ],
   "source": [
    "model2 = Sequential()\n",
    "\n",
    "model2.add(Dense(128,input_dim=2, activation=\"relu\",kernel_regularizer=tensorflow.keras.regularizers.l2(0.01)))\n",
    "model2.add(Dense(128, activation=\"relu\",kernel_regularizer=tensorflow.keras.regularizers.l2(0.01)))\n",
    "model2.add(Dense(1,activation='sigmoid'))\n",
    "\n",
    "model2.summary()"
   ]
  },
  {
   "cell_type": "code",
   "execution_count": 28,
   "id": "5e9acf53",
   "metadata": {},
   "outputs": [],
   "source": [
    "adam = Adam(learning_rate=0.01)\n",
    "model2.compile(loss='binary_crossentropy', optimizer=adam, metrics=['accuracy'])\n",
    "\n",
    "history2 = model2.fit(X, y, epochs=2000, validation_split = 0.2,verbose=0)"
   ]
  },
  {
   "cell_type": "code",
   "execution_count": 29,
   "id": "d99c61ad",
   "metadata": {},
   "outputs": [
    {
     "data": {
      "image/png": "[encoded data removed]",
      "text/plain": [
       "<Figure size 432x288 with 1 Axes>"
      ]
     },
     "metadata": {
      "needs_background": "light"
     },
     "output_type": "display_data"
    }
   ],
   "source": [
    "plot_decision_regions(X, y.astype('int'), clf=model2, legend=2)\n",
    "plt.xlim(-2,3)\n",
    "plt.ylim(-1.5,2)\n",
    "plt.show()"
   ]
  },
  {
   "cell_type": "code",
   "execution_count": 30,
   "id": "636982c8",
   "metadata": {},
   "outputs": [
    {
     "data": {
      "text/plain": [
       "[<matplotlib.lines.Line2D at 0x7f9610350460>]"
      ]
     },
     "execution_count": 30,
     "metadata": {},
     "output_type": "execute_result"
    },
    {
     "data": {
      "image/png": "[encoded data removed]",
      "text/plain": [
       "<Figure size 432x288 with 1 Axes>"
      ]
     },
     "metadata": {
      "needs_background": "light"
     },
     "output_type": "display_data"
    }
   ],
   "source": [
    "plt.plot(history2.history['loss'])\n",
    "plt.plot(history2.history['val_loss'])"
   ]
  },
  {
   "cell_type": "code",
   "execution_count": 31,
   "id": "5dba0bef",
   "metadata": {},
   "outputs": [],
   "source": [
    "model1_weight_layer1 = model1.get_weights()[0].reshape(256)\n",
    "model2_weight_layer1 = model2.get_weights()[0].reshape(256)"
   ]
  },
  {
   "cell_type": "code",
   "execution_count": 32,
   "id": "c315bcad",
   "metadata": {},
   "outputs": [
    {
     "name": "stderr",
     "output_type": "stream",
     "text": [
      "/home/dell/anaconda3/lib/python3.9/site-packages/seaborn/_decorators.py:36: FutureWarning: Pass the following variable as a keyword arg: x. From version 0.12, the only valid positional argument will be `data`, and passing other arguments without an explicit keyword will result in an error or misinterpretation.\n",
      "  warnings.warn(\n"
     ]
    },
    {
     "data": {
      "text/plain": [
       "<AxesSubplot:>"
      ]
     },
     "execution_count": 32,
     "metadata": {},
     "output_type": "execute_result"
    },
    {
     "data": {
      "image/png": "[encoded data removed]",
      "text/plain": [
       "<Figure size 432x288 with 1 Axes>"
      ]
     },
     "metadata": {
      "needs_background": "light"
     },
     "output_type": "display_data"
    }
   ],
   "source": [
    "sns.boxplot(model1_weight_layer1)"
   ]
  },
  {
   "cell_type": "code",
   "execution_count": 33,
   "id": "f76cce99",
   "metadata": {},
   "outputs": [
    {
     "name": "stderr",
     "output_type": "stream",
     "text": [
      "/home/dell/anaconda3/lib/python3.9/site-packages/seaborn/_decorators.py:36: FutureWarning: Pass the following variable as a keyword arg: x. From version 0.12, the only valid positional argument will be `data`, and passing other arguments without an explicit keyword will result in an error or misinterpretation.\n",
      "  warnings.warn(\n"
     ]
    },
    {
     "data": {
      "text/plain": [
       "<AxesSubplot:>"
      ]
     },
     "execution_count": 33,
     "metadata": {},
     "output_type": "execute_result"
    },
    {
     "data": {
      "image/png": "[encoded data removed]",
      "text/plain": [
       "<Figure size 432x288 with 1 Axes>"
      ]
     },
     "metadata": {
      "needs_background": "light"
     },
     "output_type": "display_data"
    }
   ],
   "source": [
    "sns.boxplot(model2_weight_layer1)"
   ]
  },
  {
   "cell_type": "code",
   "execution_count": 34,
   "id": "eb9dd5c5",
   "metadata": {},
   "outputs": [
    {
     "data": {
      "text/plain": [
       "-1.7475445"
      ]
     },
     "execution_count": 34,
     "metadata": {},
     "output_type": "execute_result"
    }
   ],
   "source": [
    "model1_weight_layer1.min()"
   ]
  },
  {
   "cell_type": "code",
   "execution_count": 35,
   "id": "d8515707",
   "metadata": {},
   "outputs": [
    {
     "data": {
      "text/plain": [
       "-0.72728354"
      ]
     },
     "execution_count": 35,
     "metadata": {},
     "output_type": "execute_result"
    }
   ],
   "source": [
    "model2_weight_layer1.min()"
   ]
  },
  {
   "cell_type": "code",
   "execution_count": 36,
   "id": "f1c93675",
   "metadata": {},
   "outputs": [
    {
     "name": "stderr",
     "output_type": "stream",
     "text": [
      "/home/dell/anaconda3/lib/python3.9/site-packages/seaborn/distributions.py:2619: FutureWarning: `distplot` is a deprecated function and will be removed in a future version. Please adapt your code to use either `displot` (a figure-level function with similar flexibility) or `histplot` (an axes-level function for histograms).\n",
      "  warnings.warn(msg, FutureWarning)\n",
      "/home/dell/anaconda3/lib/python3.9/site-packages/seaborn/distributions.py:2619: FutureWarning: `distplot` is a deprecated function and will be removed in a future version. Please adapt your code to use either `displot` (a figure-level function with similar flexibility) or `histplot` (an axes-level function for histograms).\n",
      "  warnings.warn(msg, FutureWarning)\n"
     ]
    },
    {
     "data": {
      "text/plain": [
       "<AxesSubplot:ylabel='Density'>"
      ]
     },
     "execution_count": 36,
     "metadata": {},
     "output_type": "execute_result"
    },
    {
     "data": {
      "image/png": "[encoded data removed]",
      "text/plain": [
       "<Figure size 432x288 with 1 Axes>"
      ]
     },
     "metadata": {
      "needs_background": "light"
     },
     "output_type": "display_data"
    }
   ],
   "source": [
    "sns.distplot(model1_weight_layer1)\n",
    "sns.distplot(model2_weight_layer1)"
   ]
  },
  {
   "cell_type": "code",
   "execution_count": 37,
   "id": "f5bce103",
   "metadata": {},
   "outputs": [
    {
     "data": {
      "text/plain": [
       "array([ 3.28536630e-01,  3.53810161e-01, -1.41439795e-01,  1.90483212e-01,\n",
       "        2.22727016e-01,  4.30788472e-02, -5.27676940e-01, -4.64509308e-01,\n",
       "       -6.31950140e-01,  1.89434439e-01,  3.04520696e-01,  1.70361578e-01,\n",
       "        4.87170462e-03, -5.84989250e-01,  1.04064643e-01, -5.22912025e-01,\n",
       "       -6.11611307e-01,  2.98790127e-01, -1.30892634e-01,  4.06190157e-02,\n",
       "        3.88326824e-01, -4.82219100e-01,  8.77298713e-02,  1.17486133e-03,\n",
       "        1.10392489e-01,  2.25120872e-01,  4.32176515e-02,  8.70598182e-02,\n",
       "       -2.58813649e-01, -1.05389729e-01, -4.29361790e-01, -4.94668961e-01,\n",
       "       -3.04366738e-01,  2.73116052e-01, -4.72188711e-01, -5.85412502e-01,\n",
       "        2.86947608e-01, -2.73476452e-01, -4.24191058e-01,  3.59118104e-01,\n",
       "        4.36475188e-01,  3.40240151e-01, -2.92628139e-01, -5.66152453e-01,\n",
       "        3.15199435e-01, -1.73147157e-01, -1.18235305e-01, -2.85531998e-01,\n",
       "        4.19969440e-01, -3.33313435e-01,  3.15913141e-01, -4.53369617e-01,\n",
       "       -1.24602251e-01,  1.19156865e-02,  8.64787772e-02, -2.72247255e-01,\n",
       "        4.38920051e-01, -4.92790461e-01,  2.91450053e-01, -6.27333581e-01,\n",
       "       -2.48139903e-01, -3.78193885e-01,  1.04801901e-01, -4.25661683e-01,\n",
       "       -2.90988147e-01,  3.92200351e-01,  3.99036288e-01,  3.84685069e-01,\n",
       "       -7.03072622e-02, -2.48121232e-01, -3.93564224e-01, -1.15610443e-01,\n",
       "       -5.85273765e-02, -3.99160594e-01,  3.58560890e-01,  2.42440596e-01,\n",
       "        3.15791577e-01, -3.41524094e-01, -4.49064940e-01, -6.31384134e-01,\n",
       "        9.36356038e-02,  1.44438207e-01, -1.25754848e-01,  4.23228830e-01,\n",
       "        2.87575245e-01, -2.30968788e-01,  6.93225209e-03, -4.46006805e-01,\n",
       "        4.24711645e-01, -2.12032318e-01, -5.52238882e-01, -7.35138208e-02,\n",
       "       -5.87660298e-02, -4.78996426e-01, -6.05002403e-01,  2.38929734e-01,\n",
       "        4.51082081e-01, -6.19132631e-02, -4.86022443e-01, -4.47057515e-01,\n",
       "        2.36257851e-01, -4.59701538e-01,  3.23916614e-01,  2.58789569e-01,\n",
       "        3.66028577e-01, -4.47929829e-01,  4.96132553e-01,  5.28462790e-02,\n",
       "        3.33271027e-01, -4.39958006e-01, -5.39645791e-01, -3.06210499e-02,\n",
       "       -4.40432519e-01,  1.80118635e-01, -1.75490841e-01, -4.19857502e-01,\n",
       "       -5.12474716e-01,  3.22022349e-01, -3.59983563e-01,  9.86937508e-02,\n",
       "       -4.74271655e-01,  8.76722261e-02, -7.11140931e-02,  3.41546625e-01,\n",
       "       -4.56666172e-01,  2.78481990e-01,  2.97632754e-01,  6.72940731e-01,\n",
       "       -1.16215730e+00,  4.26445335e-01, -6.47074878e-01,  2.46598333e-01,\n",
       "        2.48434499e-01,  3.85992616e-01,  1.00675598e-02, -6.26554489e-01,\n",
       "       -1.07409498e-02,  2.75980026e-01,  4.39885646e-01, -1.40545666e-01,\n",
       "       -1.47069299e+00, -2.93922070e-02,  1.09940819e-01, -2.44123675e-02,\n",
       "        1.81381311e-02, -8.30632806e-01,  1.23027951e-01,  8.05113092e-02,\n",
       "       -8.48327652e-02, -1.70196116e-01,  2.47043419e+00, -7.52284527e-02,\n",
       "       -1.48723528e-01, -3.25225741e-01,  2.75709424e-02, -3.36051136e-02,\n",
       "       -5.87441981e-01,  1.02804638e-01,  2.11355910e-01, -5.76291606e-03,\n",
       "        3.91408056e-01, -8.72220397e-01, -1.91663861e-01, -3.31735574e-02,\n",
       "        4.02306080e-01,  3.50638896e-01,  2.03205049e-01, -2.49846689e-02,\n",
       "        2.26227850e-01, -5.00653625e-01,  3.78769875e-01, -6.80105470e-04,\n",
       "        3.86112720e-01,  1.84781179e-01, -2.87385076e-01,  3.60370219e-01,\n",
       "       -2.89586242e-02,  1.96248889e-01, -1.49370417e-01,  2.99375621e-03,\n",
       "       -8.40406120e-01, -1.80317581e-01,  1.99974000e+00,  3.48134249e-01,\n",
       "        3.98148894e-02,  2.01641291e-01,  2.80714691e-01, -2.25279070e-02,\n",
       "        3.34640056e-01,  1.92499399e-01,  1.87301144e-01,  2.20077470e-01,\n",
       "        3.77615422e-01,  6.72995821e-02, -3.83434892e-02, -4.87700999e-02,\n",
       "       -1.12603858e-01,  2.00071990e-01,  1.82839990e-01,  5.81900254e-02,\n",
       "       -8.11499953e-02, -1.48472250e-01, -6.52702749e-02, -1.01699615e+00,\n",
       "       -4.83638406e-01,  2.49030665e-01,  2.74209529e-01, -2.20990814e-02,\n",
       "        1.58947989e-01, -3.73976417e-02, -8.29689145e-01,  1.36487558e-01,\n",
       "        3.72084081e-01,  2.83330262e-01, -4.44371216e-02, -1.99366868e-01,\n",
       "       -1.17505863e-01,  3.72954816e-01, -8.87428969e-03, -4.78444397e-01,\n",
       "        6.98656887e-02, -1.33208092e-02, -3.42635661e-02,  1.32919818e-01,\n",
       "        9.89332855e-01, -9.41168219e-02,  2.74720192e-01, -1.89913381e-02,\n",
       "       -1.74754453e+00, -1.58635587e-01,  4.00913447e-01, -1.44590825e-01,\n",
       "        2.79972821e-01, -1.55255497e+00,  4.72409762e-02,  3.62588763e-01,\n",
       "        4.98378910e-02, -1.93062812e-01, -5.35581484e-02, -2.08821654e-01,\n",
       "        2.96761066e-01, -2.22258195e-01, -5.37950516e-01, -1.74710497e-01,\n",
       "        2.57934242e-01,  2.29891449e-01,  2.04228193e-01,  4.55699489e-02,\n",
       "        1.85028836e-02, -1.26606464e+00,  7.63651282e-02,  4.05073106e-01,\n",
       "       -7.33886380e-03, -7.85227299e-01, -5.91766872e-02,  2.40872994e-01],\n",
       "      dtype=float32)"
      ]
     },
     "execution_count": 37,
     "metadata": {},
     "output_type": "execute_result"
    }
   ],
   "source": [
    "model1.get_weights()[0].reshape(256)"
   ]
  },
  {
   "cell_type": "code",
   "execution_count": null,
   "id": "b8999a19",
   "metadata": {},
   "outputs": [],
   "source": []
  }
 ],
 "metadata": {
  "kernelspec": {
   "display_name": "Python 3 (ipykernel)",
   "language": "python",
   "name": "python3"
  },
  "language_info": {
   "codemirror_mode": {
    "name": "ipython",
    "version": 3
   },
   "file_extension": ".py",
   "mimetype": "text/x-python",
   "name": "python",
   "nbconvert_exporter": "python",
   "pygments_lexer": "ipython3",
   "version": "3.9.7"
  }
 },
 "nbformat": 4,
 "nbformat_minor": 5
}
