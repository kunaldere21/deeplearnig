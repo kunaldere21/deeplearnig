{
 "cells": [
  {
   "cell_type": "code",
   "execution_count": 39,
   "id": "5e0b21fa",
   "metadata": {},
   "outputs": [],
   "source": [
    "import tensorflow as tf\n",
    "from tensorflow import keras\n",
    "from keras.models import Sequential\n",
    "from keras.layers import Conv2D, Flatten, Dense, BatchNormalization, MaxPooling2D,Dropout\n",
    "import numpy as np \n",
    "import pandas as pd\n",
    "from sklearn.model_selection import train_test_split\n",
    "import shutil\n",
    "import glob\n",
    "import os"
   ]
  },
  {
   "cell_type": "code",
   "execution_count": 11,
   "id": "9bdada88",
   "metadata": {},
   "outputs": [],
   "source": [
    "\n",
    "# data_path = '/home/dell/Desktop/My_learning/DL_tutorial/dogs-vs-cats/train/'\n",
    "# cat_list = glob.glob(data_path+'cat*')\n",
    "# dog_list = glob.glob(data_path+'dog*')\n",
    "# cat_folder_path = '/home/dell/Desktop/My_learning/DL_tutorial/classification/train/cat'\n",
    "# dog_folder_path = '/home/dell/Desktop/My_learning/DL_tutorial/classification/train/dog'\n",
    "# os.makedirs(cat_folder_path,exist_ok=True)\n",
    "# for file in cat_list:\n",
    "#     shutil.move(file,cat_folder_path)\n",
    "    "
   ]
  },
  {
   "cell_type": "code",
   "execution_count": 12,
   "id": "30abb47d",
   "metadata": {},
   "outputs": [],
   "source": [
    "# os.makedirs(dog_folder_path,exist_ok=True)\n",
    "# for file in dog_list:\n",
    "#     shutil.move(file,dog_folder_path)"
   ]
  },
  {
   "cell_type": "code",
   "execution_count": 14,
   "id": "7957212b",
   "metadata": {},
   "outputs": [],
   "source": [
    "cat_folder_path_v = '/home/dell/Desktop/My_learning/DL_tutorial/classification/validation/cat'\n",
    "dog_folder_path_v = '/home/dell/Desktop/My_learning/DL_tutorial/classification/validation/dog'"
   ]
  },
  {
   "cell_type": "code",
   "execution_count": 15,
   "id": "e938aeb1",
   "metadata": {},
   "outputs": [],
   "source": [
    "import random "
   ]
  },
  {
   "cell_type": "code",
   "execution_count": 21,
   "id": "2c0a4343",
   "metadata": {},
   "outputs": [],
   "source": [
    "# cat_list = glob.glob('/home/dell/Desktop/My_learning/DL_tutorial/classification/train/cat/'+'cat*')\n",
    "# len(cat_list)\n",
    "# os.makedirs(cat_folder_path_v,exist_ok=True)\n",
    "# for file in random.sample(cat_list,2500):\n",
    "#     shutil.move(file,cat_folder_path_v)"
   ]
  },
  {
   "cell_type": "code",
   "execution_count": 22,
   "id": "4d496cda",
   "metadata": {},
   "outputs": [],
   "source": [
    "# dog_list = glob.glob('/home/dell/Desktop/My_learning/DL_tutorial/classification/train/dog/'+'dog*')\n",
    "# len(dog_list)\n",
    "# os.makedirs(dog_folder_path_v,exist_ok=True)\n",
    "# for file in random.sample(dog_list,2500):\n",
    "#     shutil.move(file,dog_folder_path_v)"
   ]
  },
  {
   "cell_type": "code",
   "execution_count": 24,
   "id": "62cd6605",
   "metadata": {},
   "outputs": [
    {
     "name": "stdout",
     "output_type": "stream",
     "text": [
      "Found 20000 files belonging to 2 classes.\n"
     ]
    },
    {
     "name": "stderr",
     "output_type": "stream",
     "text": [
      "2022-09-26 21:49:15.931951: W tensorflow/stream_executor/platform/default/dso_loader.cc:64] Could not load dynamic library 'libcuda.so.1'; dlerror: libcuda.so.1: cannot open shared object file: No such file or directory\n",
      "2022-09-26 21:49:15.932238: W tensorflow/stream_executor/cuda/cuda_driver.cc:263] failed call to cuInit: UNKNOWN ERROR (303)\n",
      "2022-09-26 21:49:15.932260: I tensorflow/stream_executor/cuda/cuda_diagnostics.cc:156] kernel driver does not appear to be running on this host (kunal-latitude-3510): /proc/driver/nvidia/version does not exist\n",
      "2022-09-26 21:49:15.934258: I tensorflow/core/platform/cpu_feature_guard.cc:193] This TensorFlow binary is optimized with oneAPI Deep Neural Network Library (oneDNN) to use the following CPU instructions in performance-critical operations:  AVX2 FMA\n",
      "To enable them in other operations, rebuild TensorFlow with the appropriate compiler flags.\n"
     ]
    },
    {
     "name": "stdout",
     "output_type": "stream",
     "text": [
      "Found 5000 files belonging to 2 classes.\n"
     ]
    }
   ],
   "source": [
    "# generators\n",
    "train_ds = keras.utils.image_dataset_from_directory(\n",
    "    directory = '/home/dell/Desktop/My_learning/DL_tutorial/classification/train',\n",
    "    labels='inferred',\n",
    "    label_mode = 'int',\n",
    "    batch_size=32,\n",
    "    image_size=(256,256)\n",
    ")\n",
    "\n",
    "validation_ds = keras.utils.image_dataset_from_directory(\n",
    "    directory = '/home/dell/Desktop/My_learning/DL_tutorial/classification/validation',\n",
    "    labels='inferred',\n",
    "    label_mode = 'int',\n",
    "    batch_size=32,\n",
    "    image_size=(256,256)\n",
    ")"
   ]
  },
  {
   "cell_type": "code",
   "execution_count": 25,
   "id": "41800597",
   "metadata": {},
   "outputs": [],
   "source": [
    "# Normalize\n",
    "def process(image,label):\n",
    "    image = tf.cast(image/255. ,tf.float32)\n",
    "    return image,label\n",
    "\n",
    "train = train_ds.map(process)\n",
    "validation = validation_ds.map(process)"
   ]
  },
  {
   "cell_type": "code",
   "execution_count": 40,
   "id": "73f66726",
   "metadata": {},
   "outputs": [],
   "source": [
    "# create CNN model\n",
    "\n",
    "model = Sequential()\n",
    "\n",
    "model.add(Conv2D(32,kernel_size=(3,3),padding='valid',activation='relu',input_shape=(256,256,3)))\n",
    "model.add(BatchNormalization())\n",
    "model.add(MaxPooling2D(pool_size=(2,2),strides=2,padding='valid'))\n",
    "\n",
    "model.add(Conv2D(64,kernel_size=(3,3),padding='valid',activation='relu'))\n",
    "model.add(BatchNormalization())\n",
    "model.add(MaxPooling2D(pool_size=(2,2),strides=2,padding='valid'))\n",
    "\n",
    "model.add(Conv2D(128,kernel_size=(3,3),padding='valid',activation='relu'))\n",
    "model.add(BatchNormalization())\n",
    "model.add(MaxPooling2D(pool_size=(2,2),strides=2,padding='valid'))\n",
    "\n",
    "model.add(Flatten())\n",
    "\n",
    "model.add(Dense(128,activation='relu'))\n",
    "model.add(Dropout(0.1))\n",
    "model.add(Dense(64,activation='relu'))\n",
    "model.add(Dropout(0.1))\n",
    "model.add(Dense(1,activation='sigmoid'))"
   ]
  },
  {
   "cell_type": "code",
   "execution_count": 41,
   "id": "835331f5",
   "metadata": {},
   "outputs": [],
   "source": [
    "model.compile(optimizer='adam',loss='binary_crossentropy',metrics=['accuracy'])"
   ]
  },
  {
   "cell_type": "code",
   "execution_count": 43,
   "id": "74367663",
   "metadata": {},
   "outputs": [
    {
     "name": "stdout",
     "output_type": "stream",
     "text": [
      "625/625 [==============================] - 1857s 3s/step - loss: 0.5671 - accuracy: 0.7112 - val_loss: 0.5414 - val_accuracy: 0.7028\n"
     ]
    }
   ],
   "source": [
    "history = model.fit(train,epochs=1,validation_data=validation)"
   ]
  },
  {
   "cell_type": "code",
   "execution_count": null,
   "id": "8f29da82",
   "metadata": {},
   "outputs": [],
   "source": []
  }
 ],
 "metadata": {
  "kernelspec": {
   "display_name": "Python 3 (ipykernel)",
   "language": "python",
   "name": "python3"
  },
  "language_info": {
   "codemirror_mode": {
    "name": "ipython",
    "version": 3
   },
   "file_extension": ".py",
   "mimetype": "text/x-python",
   "name": "python",
   "nbconvert_exporter": "python",
   "pygments_lexer": "ipython3",
   "version": "3.9.7"
  }
 },
 "nbformat": 4,
 "nbformat_minor": 5
}
